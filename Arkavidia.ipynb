{
 "cells": [
  {
   "cell_type": "markdown",
   "metadata": {},
   "source": [
    "Goal : Predict rain sum (mm)"
   ]
  },
  {
   "cell_type": "markdown",
   "metadata": {},
   "source": [
    "# Library"
   ]
  },
  {
   "cell_type": "code",
   "execution_count": 2,
   "metadata": {},
   "outputs": [],
   "source": [
    "import pandas as pd\n",
    "import numpy as np\n",
    "import matplotlib.pyplot as plt "
   ]
  },
  {
   "cell_type": "markdown",
   "metadata": {},
   "source": [
    "# Loading Data"
   ]
  },
  {
   "cell_type": "code",
   "execution_count": 9,
   "metadata": {},
   "outputs": [],
   "source": [
    "train_data = pd.read_csv('train.csv')\n",
    "train_h_data = pd.read_csv('train_hourly.csv')\n",
    "test_data = pd.read_csv('test.csv')\n",
    "test_h_data = pd.read_csv('test_hourly.csv')"
   ]
  },
  {
   "cell_type": "code",
   "execution_count": 5,
   "metadata": {},
   "outputs": [
    {
     "data": {
      "text/html": [
       "<div>\n",
       "<style scoped>\n",
       "    .dataframe tbody tr th:only-of-type {\n",
       "        vertical-align: middle;\n",
       "    }\n",
       "\n",
       "    .dataframe tbody tr th {\n",
       "        vertical-align: top;\n",
       "    }\n",
       "\n",
       "    .dataframe thead th {\n",
       "        text-align: right;\n",
       "    }\n",
       "</style>\n",
       "<table border=\"1\" class=\"dataframe\">\n",
       "  <thead>\n",
       "    <tr style=\"text-align: right;\">\n",
       "      <th></th>\n",
       "      <th>time</th>\n",
       "      <th>temperature_2m_max (°C)</th>\n",
       "      <th>temperature_2m_min (°C)</th>\n",
       "      <th>apparent_temperature_max (°C)</th>\n",
       "      <th>apparent_temperature_min (°C)</th>\n",
       "      <th>sunrise (iso8601)</th>\n",
       "      <th>sunset (iso8601)</th>\n",
       "      <th>shortwave_radiation_sum (MJ/m²)</th>\n",
       "      <th>rain_sum (mm)</th>\n",
       "      <th>snowfall_sum (cm)</th>\n",
       "      <th>windspeed_10m_max (km/h)</th>\n",
       "      <th>windgusts_10m_max (km/h)</th>\n",
       "      <th>winddirection_10m_dominant (°)</th>\n",
       "      <th>et0_fao_evapotranspiration (mm)</th>\n",
       "      <th>elevation</th>\n",
       "      <th>city</th>\n",
       "    </tr>\n",
       "  </thead>\n",
       "  <tbody>\n",
       "    <tr>\n",
       "      <th>0</th>\n",
       "      <td>2018-01-01</td>\n",
       "      <td>29.9</td>\n",
       "      <td>26.0</td>\n",
       "      <td>36.3</td>\n",
       "      <td>31.6</td>\n",
       "      <td>2018-01-01T05:15</td>\n",
       "      <td>2018-01-01T17:49</td>\n",
       "      <td>17.59</td>\n",
       "      <td>7.7</td>\n",
       "      <td>0.0</td>\n",
       "      <td>6.9</td>\n",
       "      <td>20.2</td>\n",
       "      <td>277.0</td>\n",
       "      <td>3.61</td>\n",
       "      <td>0</td>\n",
       "      <td>su</td>\n",
       "    </tr>\n",
       "    <tr>\n",
       "      <th>1</th>\n",
       "      <td>2018-01-02</td>\n",
       "      <td>30.6</td>\n",
       "      <td>25.7</td>\n",
       "      <td>37.7</td>\n",
       "      <td>31.2</td>\n",
       "      <td>2018-01-02T05:15</td>\n",
       "      <td>2018-01-02T17:50</td>\n",
       "      <td>19.87</td>\n",
       "      <td>9.4</td>\n",
       "      <td>0.0</td>\n",
       "      <td>7.1</td>\n",
       "      <td>18.0</td>\n",
       "      <td>168.0</td>\n",
       "      <td>4.11</td>\n",
       "      <td>0</td>\n",
       "      <td>su</td>\n",
       "    </tr>\n",
       "    <tr>\n",
       "      <th>2</th>\n",
       "      <td>2018-01-03</td>\n",
       "      <td>31.8</td>\n",
       "      <td>25.9</td>\n",
       "      <td>40.3</td>\n",
       "      <td>31.7</td>\n",
       "      <td>2018-01-03T05:16</td>\n",
       "      <td>2018-01-03T17:50</td>\n",
       "      <td>20.44</td>\n",
       "      <td>7.8</td>\n",
       "      <td>0.0</td>\n",
       "      <td>8.1</td>\n",
       "      <td>21.2</td>\n",
       "      <td>125.0</td>\n",
       "      <td>4.23</td>\n",
       "      <td>0</td>\n",
       "      <td>su</td>\n",
       "    </tr>\n",
       "    <tr>\n",
       "      <th>3</th>\n",
       "      <td>2018-01-04</td>\n",
       "      <td>30.8</td>\n",
       "      <td>26.0</td>\n",
       "      <td>39.1</td>\n",
       "      <td>31.6</td>\n",
       "      <td>2018-01-04T05:16</td>\n",
       "      <td>2018-01-04T17:50</td>\n",
       "      <td>20.44</td>\n",
       "      <td>29.7</td>\n",
       "      <td>0.0</td>\n",
       "      <td>7.2</td>\n",
       "      <td>21.6</td>\n",
       "      <td>190.0</td>\n",
       "      <td>4.22</td>\n",
       "      <td>0</td>\n",
       "      <td>su</td>\n",
       "    </tr>\n",
       "    <tr>\n",
       "      <th>4</th>\n",
       "      <td>2018-01-05</td>\n",
       "      <td>30.9</td>\n",
       "      <td>25.2</td>\n",
       "      <td>37.6</td>\n",
       "      <td>29.9</td>\n",
       "      <td>2018-01-05T05:17</td>\n",
       "      <td>2018-01-05T17:51</td>\n",
       "      <td>20.10</td>\n",
       "      <td>22.5</td>\n",
       "      <td>0.0</td>\n",
       "      <td>6.9</td>\n",
       "      <td>21.2</td>\n",
       "      <td>241.0</td>\n",
       "      <td>4.16</td>\n",
       "      <td>0</td>\n",
       "      <td>su</td>\n",
       "    </tr>\n",
       "  </tbody>\n",
       "</table>\n",
       "</div>"
      ],
      "text/plain": [
       "         time  temperature_2m_max (°C)  temperature_2m_min (°C)  \\\n",
       "0  2018-01-01                     29.9                     26.0   \n",
       "1  2018-01-02                     30.6                     25.7   \n",
       "2  2018-01-03                     31.8                     25.9   \n",
       "3  2018-01-04                     30.8                     26.0   \n",
       "4  2018-01-05                     30.9                     25.2   \n",
       "\n",
       "   apparent_temperature_max (°C)  apparent_temperature_min (°C)  \\\n",
       "0                           36.3                           31.6   \n",
       "1                           37.7                           31.2   \n",
       "2                           40.3                           31.7   \n",
       "3                           39.1                           31.6   \n",
       "4                           37.6                           29.9   \n",
       "\n",
       "  sunrise (iso8601)  sunset (iso8601)  shortwave_radiation_sum (MJ/m²)  \\\n",
       "0  2018-01-01T05:15  2018-01-01T17:49                            17.59   \n",
       "1  2018-01-02T05:15  2018-01-02T17:50                            19.87   \n",
       "2  2018-01-03T05:16  2018-01-03T17:50                            20.44   \n",
       "3  2018-01-04T05:16  2018-01-04T17:50                            20.44   \n",
       "4  2018-01-05T05:17  2018-01-05T17:51                            20.10   \n",
       "\n",
       "   rain_sum (mm)  snowfall_sum (cm)  windspeed_10m_max (km/h)  \\\n",
       "0            7.7                0.0                       6.9   \n",
       "1            9.4                0.0                       7.1   \n",
       "2            7.8                0.0                       8.1   \n",
       "3           29.7                0.0                       7.2   \n",
       "4           22.5                0.0                       6.9   \n",
       "\n",
       "   windgusts_10m_max (km/h)  winddirection_10m_dominant (°)  \\\n",
       "0                      20.2                           277.0   \n",
       "1                      18.0                           168.0   \n",
       "2                      21.2                           125.0   \n",
       "3                      21.6                           190.0   \n",
       "4                      21.2                           241.0   \n",
       "\n",
       "   et0_fao_evapotranspiration (mm)  elevation city  \n",
       "0                             3.61          0   su  \n",
       "1                             4.11          0   su  \n",
       "2                             4.23          0   su  \n",
       "3                             4.22          0   su  \n",
       "4                             4.16          0   su  "
      ]
     },
     "execution_count": 5,
     "metadata": {},
     "output_type": "execute_result"
    }
   ],
   "source": [
    "train_data.head()"
   ]
  },
  {
   "cell_type": "code",
   "execution_count": 30,
   "metadata": {},
   "outputs": [
    {
     "name": "stdout",
     "output_type": "stream",
     "text": [
      "Train Data Total: 13258\n",
      "Train Hourly Data Total: 318192\n"
     ]
    }
   ],
   "source": [
    "print(\"Train Data Total: \" + str(len(train_data)))\n",
    "print(\"Train Hourly Data Total: \" + str(len(train_h_data)))"
   ]
  },
  {
   "cell_type": "code",
   "execution_count": 8,
   "metadata": {},
   "outputs": [
    {
     "data": {
      "text/plain": [
       "Index(['time', 'temperature_2m_max (°C)', 'temperature_2m_min (°C)',\n",
       "       'apparent_temperature_max (°C)', 'apparent_temperature_min (°C)',\n",
       "       'sunrise (iso8601)', 'sunset (iso8601)',\n",
       "       'shortwave_radiation_sum (MJ/m²)', 'rain_sum (mm)', 'snowfall_sum (cm)',\n",
       "       'windspeed_10m_max (km/h)', 'windgusts_10m_max (km/h)',\n",
       "       'winddirection_10m_dominant (°)', 'et0_fao_evapotranspiration (mm)',\n",
       "       'elevation', 'city'],\n",
       "      dtype='object')"
      ]
     },
     "execution_count": 8,
     "metadata": {},
     "output_type": "execute_result"
    }
   ],
   "source": [
    "train_data.columns"
   ]
  },
  {
   "cell_type": "code",
   "execution_count": 19,
   "metadata": {},
   "outputs": [
    {
     "data": {
      "text/plain": [
       "Index(['time', 'temperature_2m (°C)', 'relativehumidity_2m (%)',\n",
       "       'dewpoint_2m (°C)', 'apparent_temperature (°C)', 'pressure_msl (hPa)',\n",
       "       'surface_pressure (hPa)', 'snowfall (cm)', 'cloudcover (%)',\n",
       "       'cloudcover_low (%)', 'cloudcover_mid (%)', 'cloudcover_high (%)',\n",
       "       'shortwave_radiation (W/m²)', 'direct_radiation (W/m²)',\n",
       "       'diffuse_radiation (W/m²)', 'direct_normal_irradiance (W/m²)',\n",
       "       'windspeed_10m (km/h)', 'windspeed_100m (km/h)',\n",
       "       'winddirection_10m (°)', 'winddirection_100m (°)',\n",
       "       'windgusts_10m (km/h)', 'et0_fao_evapotranspiration (mm)',\n",
       "       'vapor_pressure_deficit (kPa)', 'soil_temperature_0_to_7cm (°C)',\n",
       "       'soil_temperature_7_to_28cm (°C)', 'soil_temperature_28_to_100cm (°C)',\n",
       "       'soil_temperature_100_to_255cm (°C)', 'soil_moisture_0_to_7cm (m³/m³)',\n",
       "       'soil_moisture_7_to_28cm (m³/m³)', 'soil_moisture_28_to_100cm (m³/m³)',\n",
       "       'soil_moisture_100_to_255cm (m³/m³)', 'city'],\n",
       "      dtype='object')"
      ]
     },
     "execution_count": 19,
     "metadata": {},
     "output_type": "execute_result"
    }
   ],
   "source": [
    "train_h_data.columns"
   ]
  },
  {
   "cell_type": "markdown",
   "metadata": {},
   "source": [
    "# Data Cleansing"
   ]
  },
  {
   "cell_type": "code",
   "execution_count": 15,
   "metadata": {},
   "outputs": [
    {
     "data": {
      "text/plain": [
       "time                                 0\n",
       "temperature_2m_max (°C)             50\n",
       "temperature_2m_min (°C)             50\n",
       "apparent_temperature_max (°C)       50\n",
       "apparent_temperature_min (°C)       50\n",
       "sunrise (iso8601)                    0\n",
       "sunset (iso8601)                     0\n",
       "shortwave_radiation_sum (MJ/m²)     60\n",
       "rain_sum (mm)                       60\n",
       "snowfall_sum (cm)                   60\n",
       "windspeed_10m_max (km/h)            50\n",
       "windgusts_10m_max (km/h)            50\n",
       "winddirection_10m_dominant (°)     466\n",
       "et0_fao_evapotranspiration (mm)     60\n",
       "elevation                            0\n",
       "city                                 0\n",
       "dtype: int64"
      ]
     },
     "execution_count": 15,
     "metadata": {},
     "output_type": "execute_result"
    }
   ],
   "source": [
    "train_data.isnull().sum()"
   ]
  },
  {
   "cell_type": "code",
   "execution_count": 25,
   "metadata": {},
   "outputs": [
    {
     "data": {
      "text/plain": [
       "time                                    0\n",
       "temperature_2m (°C)                   170\n",
       "relativehumidity_2m (%)               170\n",
       "dewpoint_2m (°C)                      170\n",
       "apparent_temperature (°C)             170\n",
       "pressure_msl (hPa)                    170\n",
       "surface_pressure (hPa)                170\n",
       "snowfall (cm)                         170\n",
       "cloudcover (%)                        170\n",
       "cloudcover_low (%)                    170\n",
       "cloudcover_mid (%)                    170\n",
       "cloudcover_high (%)                   170\n",
       "shortwave_radiation (W/m²)            170\n",
       "direct_radiation (W/m²)               170\n",
       "diffuse_radiation (W/m²)              170\n",
       "direct_normal_irradiance (W/m²)       160\n",
       "windspeed_10m (km/h)                  170\n",
       "windspeed_100m (km/h)                 170\n",
       "winddirection_10m (°)                 602\n",
       "winddirection_100m (°)                347\n",
       "windgusts_10m (km/h)                  170\n",
       "et0_fao_evapotranspiration (mm)       170\n",
       "vapor_pressure_deficit (kPa)          170\n",
       "soil_temperature_0_to_7cm (°C)        170\n",
       "soil_temperature_7_to_28cm (°C)       170\n",
       "soil_temperature_28_to_100cm (°C)     170\n",
       "soil_temperature_100_to_255cm (°C)    170\n",
       "soil_moisture_0_to_7cm (m³/m³)        170\n",
       "soil_moisture_7_to_28cm (m³/m³)       170\n",
       "soil_moisture_28_to_100cm (m³/m³)     170\n",
       "soil_moisture_100_to_255cm (m³/m³)    170\n",
       "city                                    0\n",
       "dtype: int64"
      ]
     },
     "execution_count": 25,
     "metadata": {},
     "output_type": "execute_result"
    }
   ],
   "source": [
    "train_h_data.isnull().sum()"
   ]
  },
  {
   "cell_type": "code",
   "execution_count": null,
   "metadata": {},
   "outputs": [],
   "source": []
  }
 ],
 "metadata": {
  "kernelspec": {
   "display_name": "Python 3.9.0 64-bit",
   "language": "python",
   "name": "python3"
  },
  "language_info": {
   "codemirror_mode": {
    "name": "ipython",
    "version": 3
   },
   "file_extension": ".py",
   "mimetype": "text/x-python",
   "name": "python",
   "nbconvert_exporter": "python",
   "pygments_lexer": "ipython3",
   "version": "3.9.0"
  },
  "orig_nbformat": 4,
  "vscode": {
   "interpreter": {
    "hash": "8f5816e6188795d1cc8afa4306b69c5e3a103f064a75e820fe776234e4cf83e8"
   }
  }
 },
 "nbformat": 4,
 "nbformat_minor": 2
}
