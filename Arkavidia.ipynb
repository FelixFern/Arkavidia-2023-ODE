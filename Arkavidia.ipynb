{
 "cells": [
  {
   "cell_type": "markdown",
   "metadata": {},
   "source": [
    "Goal : Predict rain sum (mm)"
   ]
  },
  {
   "cell_type": "markdown",
   "metadata": {},
   "source": [
    "# Library"
   ]
  },
  {
   "cell_type": "code",
   "execution_count": 1,
   "metadata": {},
   "outputs": [],
   "source": [
    "import pandas as pd\n",
    "import numpy as np\n",
    "import matplotlib.pyplot as plt\n",
    "import seaborn as sns"
   ]
  },
  {
   "cell_type": "markdown",
   "metadata": {},
   "source": [
    "# Loading Data"
   ]
  },
  {
   "cell_type": "code",
   "execution_count": 2,
   "metadata": {},
   "outputs": [],
   "source": [
    "train_data = pd.read_csv('train.csv')\n",
    "train_h_data = pd.read_csv('train_hourly.csv')\n",
    "test_data = pd.read_csv('test.csv')\n",
    "test_h_data = pd.read_csv('test_hourly.csv')"
   ]
  },
  {
   "cell_type": "code",
   "execution_count": 16,
   "metadata": {},
   "outputs": [
    {
     "name": "stdout",
     "output_type": "stream",
     "text": [
      "<class 'pandas.core.frame.DataFrame'>\n",
      "RangeIndex: 13258 entries, 0 to 13257\n",
      "Data columns (total 16 columns):\n",
      " #   Column                           Non-Null Count  Dtype  \n",
      "---  ------                           --------------  -----  \n",
      " 0   time                             13258 non-null  object \n",
      " 1   temperature_2m_max (°C)          13208 non-null  float64\n",
      " 2   temperature_2m_min (°C)          13208 non-null  float64\n",
      " 3   apparent_temperature_max (°C)    13208 non-null  float64\n",
      " 4   apparent_temperature_min (°C)    13208 non-null  float64\n",
      " 5   sunrise (iso8601)                13258 non-null  object \n",
      " 6   sunset (iso8601)                 13258 non-null  object \n",
      " 7   shortwave_radiation_sum (MJ/m²)  13198 non-null  float64\n",
      " 8   rain_sum (mm)                    13198 non-null  float64\n",
      " 9   snowfall_sum (cm)                13198 non-null  float64\n",
      " 10  windspeed_10m_max (km/h)         13208 non-null  float64\n",
      " 11  windgusts_10m_max (km/h)         13208 non-null  float64\n",
      " 12  winddirection_10m_dominant (°)   12792 non-null  float64\n",
      " 13  et0_fao_evapotranspiration (mm)  13198 non-null  float64\n",
      " 14  elevation                        13258 non-null  int64  \n",
      " 15  city                             13258 non-null  object \n",
      "dtypes: float64(11), int64(1), object(4)\n",
      "memory usage: 1.6+ MB\n"
     ]
    }
   ],
   "source": [
    "train_data.info()"
   ]
  },
  {
   "cell_type": "code",
   "execution_count": 18,
   "metadata": {},
   "outputs": [
    {
     "name": "stdout",
     "output_type": "stream",
     "text": [
      "<class 'pandas.core.frame.DataFrame'>\n",
      "RangeIndex: 318192 entries, 0 to 318191\n",
      "Data columns (total 32 columns):\n",
      " #   Column                              Non-Null Count   Dtype  \n",
      "---  ------                              --------------   -----  \n",
      " 0   time                                318192 non-null  object \n",
      " 1   temperature_2m (°C)                 318022 non-null  float64\n",
      " 2   relativehumidity_2m (%)             318022 non-null  float64\n",
      " 3   dewpoint_2m (°C)                    318022 non-null  float64\n",
      " 4   apparent_temperature (°C)           318022 non-null  float64\n",
      " 5   pressure_msl (hPa)                  318022 non-null  float64\n",
      " 6   surface_pressure (hPa)              318022 non-null  float64\n",
      " 7   snowfall (cm)                       318022 non-null  float64\n",
      " 8   cloudcover (%)                      318022 non-null  float64\n",
      " 9   cloudcover_low (%)                  318022 non-null  float64\n",
      " 10  cloudcover_mid (%)                  318022 non-null  float64\n",
      " 11  cloudcover_high (%)                 318022 non-null  float64\n",
      " 12  shortwave_radiation (W/m²)          318022 non-null  float64\n",
      " 13  direct_radiation (W/m²)             318022 non-null  float64\n",
      " 14  diffuse_radiation (W/m²)            318022 non-null  float64\n",
      " 15  direct_normal_irradiance (W/m²)     318032 non-null  float64\n",
      " 16  windspeed_10m (km/h)                318022 non-null  float64\n",
      " 17  windspeed_100m (km/h)               318022 non-null  float64\n",
      " 18  winddirection_10m (°)               317590 non-null  float64\n",
      " 19  winddirection_100m (°)              317845 non-null  float64\n",
      " 20  windgusts_10m (km/h)                318022 non-null  float64\n",
      " 21  et0_fao_evapotranspiration (mm)     318022 non-null  float64\n",
      " 22  vapor_pressure_deficit (kPa)        318022 non-null  float64\n",
      " 23  soil_temperature_0_to_7cm (°C)      318022 non-null  float64\n",
      " 24  soil_temperature_7_to_28cm (°C)     318022 non-null  float64\n",
      " 25  soil_temperature_28_to_100cm (°C)   318022 non-null  float64\n",
      " 26  soil_temperature_100_to_255cm (°C)  318022 non-null  float64\n",
      " 27  soil_moisture_0_to_7cm (m³/m³)      318022 non-null  float64\n",
      " 28  soil_moisture_7_to_28cm (m³/m³)     318022 non-null  float64\n",
      " 29  soil_moisture_28_to_100cm (m³/m³)   318022 non-null  float64\n",
      " 30  soil_moisture_100_to_255cm (m³/m³)  318022 non-null  float64\n",
      " 31  city                                318192 non-null  object \n",
      "dtypes: float64(30), object(2)\n",
      "memory usage: 77.7+ MB\n"
     ]
    }
   ],
   "source": [
    "train_h_data.info()"
   ]
  },
  {
   "cell_type": "code",
   "execution_count": 23,
   "metadata": {},
   "outputs": [
    {
     "name": "stdout",
     "output_type": "stream",
     "text": [
      "<class 'pandas.core.frame.DataFrame'>\n",
      "RangeIndex: 4972 entries, 0 to 4971\n",
      "Data columns (total 16 columns):\n",
      " #   Column                           Non-Null Count  Dtype  \n",
      "---  ------                           --------------  -----  \n",
      " 0   id                               4972 non-null   int64  \n",
      " 1   time                             4972 non-null   object \n",
      " 2   temperature_2m_max (°C)          4972 non-null   float64\n",
      " 3   temperature_2m_min (°C)          4972 non-null   float64\n",
      " 4   apparent_temperature_max (°C)    4972 non-null   float64\n",
      " 5   apparent_temperature_min (°C)    4972 non-null   float64\n",
      " 6   sunrise (iso8601)                4972 non-null   object \n",
      " 7   sunset (iso8601)                 4972 non-null   object \n",
      " 8   shortwave_radiation_sum (MJ/m²)  4972 non-null   float64\n",
      " 9   snowfall_sum (cm)                4972 non-null   float64\n",
      " 10  windspeed_10m_max (km/h)         4972 non-null   float64\n",
      " 11  windgusts_10m_max (km/h)         4972 non-null   float64\n",
      " 12  winddirection_10m_dominant (°)   4972 non-null   float64\n",
      " 13  et0_fao_evapotranspiration (mm)  4972 non-null   float64\n",
      " 14  elevation                        4972 non-null   int64  \n",
      " 15  city                             4972 non-null   object \n",
      "dtypes: float64(10), int64(2), object(4)\n",
      "memory usage: 621.6+ KB\n"
     ]
    }
   ],
   "source": [
    "test_data.info()"
   ]
  },
  {
   "cell_type": "code",
   "execution_count": 22,
   "metadata": {},
   "outputs": [
    {
     "name": "stdout",
     "output_type": "stream",
     "text": [
      "<class 'pandas.core.frame.DataFrame'>\n",
      "RangeIndex: 119328 entries, 0 to 119327\n",
      "Data columns (total 32 columns):\n",
      " #   Column                              Non-Null Count   Dtype  \n",
      "---  ------                              --------------   -----  \n",
      " 0   time                                119328 non-null  object \n",
      " 1   temperature_2m (°C)                 119328 non-null  float64\n",
      " 2   relativehumidity_2m (%)             119328 non-null  float64\n",
      " 3   dewpoint_2m (°C)                    119328 non-null  float64\n",
      " 4   apparent_temperature (°C)           119328 non-null  float64\n",
      " 5   pressure_msl (hPa)                  119328 non-null  float64\n",
      " 6   surface_pressure (hPa)              119328 non-null  float64\n",
      " 7   snowfall (cm)                       119328 non-null  float64\n",
      " 8   cloudcover (%)                      119328 non-null  float64\n",
      " 9   cloudcover_low (%)                  119328 non-null  float64\n",
      " 10  cloudcover_mid (%)                  119328 non-null  float64\n",
      " 11  cloudcover_high (%)                 119328 non-null  float64\n",
      " 12  shortwave_radiation (W/m²)          119328 non-null  float64\n",
      " 13  direct_radiation (W/m²)             119328 non-null  float64\n",
      " 14  diffuse_radiation (W/m²)            119328 non-null  float64\n",
      " 15  direct_normal_irradiance (W/m²)     119328 non-null  float64\n",
      " 16  windspeed_10m (km/h)                119328 non-null  float64\n",
      " 17  windspeed_100m (km/h)               119328 non-null  float64\n",
      " 18  winddirection_10m (°)               119328 non-null  float64\n",
      " 19  winddirection_100m (°)              119272 non-null  float64\n",
      " 20  windgusts_10m (km/h)                119328 non-null  float64\n",
      " 21  et0_fao_evapotranspiration (mm)     119328 non-null  float64\n",
      " 22  vapor_pressure_deficit (kPa)        119328 non-null  float64\n",
      " 23  soil_temperature_0_to_7cm (°C)      119328 non-null  float64\n",
      " 24  soil_temperature_7_to_28cm (°C)     119328 non-null  float64\n",
      " 25  soil_temperature_28_to_100cm (°C)   119328 non-null  float64\n",
      " 26  soil_temperature_100_to_255cm (°C)  119328 non-null  float64\n",
      " 27  soil_moisture_0_to_7cm (m³/m³)      119328 non-null  float64\n",
      " 28  soil_moisture_7_to_28cm (m³/m³)     119328 non-null  float64\n",
      " 29  soil_moisture_28_to_100cm (m³/m³)   119328 non-null  float64\n",
      " 30  soil_moisture_100_to_255cm (m³/m³)  119328 non-null  float64\n",
      " 31  city                                119328 non-null  object \n",
      "dtypes: float64(30), object(2)\n",
      "memory usage: 29.1+ MB\n"
     ]
    }
   ],
   "source": [
    "test_h_data.info()"
   ]
  },
  {
   "cell_type": "markdown",
   "metadata": {},
   "source": [
    "hanya data hourly mengenai winddirection_100m yang memiliki Null"
   ]
  },
  {
   "cell_type": "code",
   "execution_count": 24,
   "metadata": {},
   "outputs": [
    {
     "data": {
      "text/html": [
       "<div>\n",
       "<style scoped>\n",
       "    .dataframe tbody tr th:only-of-type {\n",
       "        vertical-align: middle;\n",
       "    }\n",
       "\n",
       "    .dataframe tbody tr th {\n",
       "        vertical-align: top;\n",
       "    }\n",
       "\n",
       "    .dataframe thead th {\n",
       "        text-align: right;\n",
       "    }\n",
       "</style>\n",
       "<table border=\"1\" class=\"dataframe\">\n",
       "  <thead>\n",
       "    <tr style=\"text-align: right;\">\n",
       "      <th></th>\n",
       "      <th>time</th>\n",
       "      <th>temperature_2m_max (°C)</th>\n",
       "      <th>temperature_2m_min (°C)</th>\n",
       "      <th>apparent_temperature_max (°C)</th>\n",
       "      <th>apparent_temperature_min (°C)</th>\n",
       "      <th>sunrise (iso8601)</th>\n",
       "      <th>sunset (iso8601)</th>\n",
       "      <th>shortwave_radiation_sum (MJ/m²)</th>\n",
       "      <th>rain_sum (mm)</th>\n",
       "      <th>snowfall_sum (cm)</th>\n",
       "      <th>windspeed_10m_max (km/h)</th>\n",
       "      <th>windgusts_10m_max (km/h)</th>\n",
       "      <th>winddirection_10m_dominant (°)</th>\n",
       "      <th>et0_fao_evapotranspiration (mm)</th>\n",
       "      <th>elevation</th>\n",
       "      <th>city</th>\n",
       "    </tr>\n",
       "  </thead>\n",
       "  <tbody>\n",
       "    <tr>\n",
       "      <th>0</th>\n",
       "      <td>2018-01-01</td>\n",
       "      <td>29.9</td>\n",
       "      <td>26.0</td>\n",
       "      <td>36.3</td>\n",
       "      <td>31.6</td>\n",
       "      <td>2018-01-01T05:15</td>\n",
       "      <td>2018-01-01T17:49</td>\n",
       "      <td>17.59</td>\n",
       "      <td>7.7</td>\n",
       "      <td>0.0</td>\n",
       "      <td>6.9</td>\n",
       "      <td>20.2</td>\n",
       "      <td>277.0</td>\n",
       "      <td>3.61</td>\n",
       "      <td>0</td>\n",
       "      <td>su</td>\n",
       "    </tr>\n",
       "    <tr>\n",
       "      <th>1</th>\n",
       "      <td>2018-01-02</td>\n",
       "      <td>30.6</td>\n",
       "      <td>25.7</td>\n",
       "      <td>37.7</td>\n",
       "      <td>31.2</td>\n",
       "      <td>2018-01-02T05:15</td>\n",
       "      <td>2018-01-02T17:50</td>\n",
       "      <td>19.87</td>\n",
       "      <td>9.4</td>\n",
       "      <td>0.0</td>\n",
       "      <td>7.1</td>\n",
       "      <td>18.0</td>\n",
       "      <td>168.0</td>\n",
       "      <td>4.11</td>\n",
       "      <td>0</td>\n",
       "      <td>su</td>\n",
       "    </tr>\n",
       "    <tr>\n",
       "      <th>2</th>\n",
       "      <td>2018-01-03</td>\n",
       "      <td>31.8</td>\n",
       "      <td>25.9</td>\n",
       "      <td>40.3</td>\n",
       "      <td>31.7</td>\n",
       "      <td>2018-01-03T05:16</td>\n",
       "      <td>2018-01-03T17:50</td>\n",
       "      <td>20.44</td>\n",
       "      <td>7.8</td>\n",
       "      <td>0.0</td>\n",
       "      <td>8.1</td>\n",
       "      <td>21.2</td>\n",
       "      <td>125.0</td>\n",
       "      <td>4.23</td>\n",
       "      <td>0</td>\n",
       "      <td>su</td>\n",
       "    </tr>\n",
       "    <tr>\n",
       "      <th>3</th>\n",
       "      <td>2018-01-04</td>\n",
       "      <td>30.8</td>\n",
       "      <td>26.0</td>\n",
       "      <td>39.1</td>\n",
       "      <td>31.6</td>\n",
       "      <td>2018-01-04T05:16</td>\n",
       "      <td>2018-01-04T17:50</td>\n",
       "      <td>20.44</td>\n",
       "      <td>29.7</td>\n",
       "      <td>0.0</td>\n",
       "      <td>7.2</td>\n",
       "      <td>21.6</td>\n",
       "      <td>190.0</td>\n",
       "      <td>4.22</td>\n",
       "      <td>0</td>\n",
       "      <td>su</td>\n",
       "    </tr>\n",
       "    <tr>\n",
       "      <th>4</th>\n",
       "      <td>2018-01-05</td>\n",
       "      <td>30.9</td>\n",
       "      <td>25.2</td>\n",
       "      <td>37.6</td>\n",
       "      <td>29.9</td>\n",
       "      <td>2018-01-05T05:17</td>\n",
       "      <td>2018-01-05T17:51</td>\n",
       "      <td>20.10</td>\n",
       "      <td>22.5</td>\n",
       "      <td>0.0</td>\n",
       "      <td>6.9</td>\n",
       "      <td>21.2</td>\n",
       "      <td>241.0</td>\n",
       "      <td>4.16</td>\n",
       "      <td>0</td>\n",
       "      <td>su</td>\n",
       "    </tr>\n",
       "  </tbody>\n",
       "</table>\n",
       "</div>"
      ],
      "text/plain": [
       "         time  temperature_2m_max (°C)  temperature_2m_min (°C)  \\\n",
       "0  2018-01-01                     29.9                     26.0   \n",
       "1  2018-01-02                     30.6                     25.7   \n",
       "2  2018-01-03                     31.8                     25.9   \n",
       "3  2018-01-04                     30.8                     26.0   \n",
       "4  2018-01-05                     30.9                     25.2   \n",
       "\n",
       "   apparent_temperature_max (°C)  apparent_temperature_min (°C)  \\\n",
       "0                           36.3                           31.6   \n",
       "1                           37.7                           31.2   \n",
       "2                           40.3                           31.7   \n",
       "3                           39.1                           31.6   \n",
       "4                           37.6                           29.9   \n",
       "\n",
       "  sunrise (iso8601)  sunset (iso8601)  shortwave_radiation_sum (MJ/m²)  \\\n",
       "0  2018-01-01T05:15  2018-01-01T17:49                            17.59   \n",
       "1  2018-01-02T05:15  2018-01-02T17:50                            19.87   \n",
       "2  2018-01-03T05:16  2018-01-03T17:50                            20.44   \n",
       "3  2018-01-04T05:16  2018-01-04T17:50                            20.44   \n",
       "4  2018-01-05T05:17  2018-01-05T17:51                            20.10   \n",
       "\n",
       "   rain_sum (mm)  snowfall_sum (cm)  windspeed_10m_max (km/h)  \\\n",
       "0            7.7                0.0                       6.9   \n",
       "1            9.4                0.0                       7.1   \n",
       "2            7.8                0.0                       8.1   \n",
       "3           29.7                0.0                       7.2   \n",
       "4           22.5                0.0                       6.9   \n",
       "\n",
       "   windgusts_10m_max (km/h)  winddirection_10m_dominant (°)  \\\n",
       "0                      20.2                           277.0   \n",
       "1                      18.0                           168.0   \n",
       "2                      21.2                           125.0   \n",
       "3                      21.6                           190.0   \n",
       "4                      21.2                           241.0   \n",
       "\n",
       "   et0_fao_evapotranspiration (mm)  elevation city  \n",
       "0                             3.61          0   su  \n",
       "1                             4.11          0   su  \n",
       "2                             4.23          0   su  \n",
       "3                             4.22          0   su  \n",
       "4                             4.16          0   su  "
      ]
     },
     "execution_count": 24,
     "metadata": {},
     "output_type": "execute_result"
    }
   ],
   "source": [
    "train_data.head()"
   ]
  },
  {
   "cell_type": "code",
   "execution_count": 4,
   "metadata": {},
   "outputs": [
    {
     "data": {
      "text/html": [
       "<div>\n",
       "<style scoped>\n",
       "    .dataframe tbody tr th:only-of-type {\n",
       "        vertical-align: middle;\n",
       "    }\n",
       "\n",
       "    .dataframe tbody tr th {\n",
       "        vertical-align: top;\n",
       "    }\n",
       "\n",
       "    .dataframe thead th {\n",
       "        text-align: right;\n",
       "    }\n",
       "</style>\n",
       "<table border=\"1\" class=\"dataframe\">\n",
       "  <thead>\n",
       "    <tr style=\"text-align: right;\">\n",
       "      <th></th>\n",
       "      <th>time</th>\n",
       "      <th>temperature_2m (°C)</th>\n",
       "      <th>relativehumidity_2m (%)</th>\n",
       "      <th>dewpoint_2m (°C)</th>\n",
       "      <th>apparent_temperature (°C)</th>\n",
       "      <th>pressure_msl (hPa)</th>\n",
       "      <th>surface_pressure (hPa)</th>\n",
       "      <th>snowfall (cm)</th>\n",
       "      <th>cloudcover (%)</th>\n",
       "      <th>cloudcover_low (%)</th>\n",
       "      <th>...</th>\n",
       "      <th>vapor_pressure_deficit (kPa)</th>\n",
       "      <th>soil_temperature_0_to_7cm (°C)</th>\n",
       "      <th>soil_temperature_7_to_28cm (°C)</th>\n",
       "      <th>soil_temperature_28_to_100cm (°C)</th>\n",
       "      <th>soil_temperature_100_to_255cm (°C)</th>\n",
       "      <th>soil_moisture_0_to_7cm (m³/m³)</th>\n",
       "      <th>soil_moisture_7_to_28cm (m³/m³)</th>\n",
       "      <th>soil_moisture_28_to_100cm (m³/m³)</th>\n",
       "      <th>soil_moisture_100_to_255cm (m³/m³)</th>\n",
       "      <th>city</th>\n",
       "    </tr>\n",
       "  </thead>\n",
       "  <tbody>\n",
       "    <tr>\n",
       "      <th>0</th>\n",
       "      <td>2018-01-01T00:00</td>\n",
       "      <td>25.0</td>\n",
       "      <td>94.0</td>\n",
       "      <td>24.1</td>\n",
       "      <td>32.3</td>\n",
       "      <td>1007.0</td>\n",
       "      <td>1009.3</td>\n",
       "      <td>0.0</td>\n",
       "      <td>82.0</td>\n",
       "      <td>33.0</td>\n",
       "      <td>...</td>\n",
       "      <td>0.18</td>\n",
       "      <td>26.8</td>\n",
       "      <td>28.5</td>\n",
       "      <td>28.7</td>\n",
       "      <td>29.3</td>\n",
       "      <td>0.298</td>\n",
       "      <td>0.307</td>\n",
       "      <td>0.281</td>\n",
       "      <td>0.28</td>\n",
       "      <td>su</td>\n",
       "    </tr>\n",
       "    <tr>\n",
       "      <th>1</th>\n",
       "      <td>2018-01-01T01:00</td>\n",
       "      <td>25.2</td>\n",
       "      <td>92.0</td>\n",
       "      <td>23.8</td>\n",
       "      <td>32.5</td>\n",
       "      <td>1006.5</td>\n",
       "      <td>1008.8</td>\n",
       "      <td>0.0</td>\n",
       "      <td>100.0</td>\n",
       "      <td>45.0</td>\n",
       "      <td>...</td>\n",
       "      <td>0.27</td>\n",
       "      <td>26.6</td>\n",
       "      <td>28.4</td>\n",
       "      <td>28.7</td>\n",
       "      <td>29.3</td>\n",
       "      <td>0.298</td>\n",
       "      <td>0.307</td>\n",
       "      <td>0.281</td>\n",
       "      <td>0.28</td>\n",
       "      <td>su</td>\n",
       "    </tr>\n",
       "    <tr>\n",
       "      <th>2</th>\n",
       "      <td>2018-01-01T02:00</td>\n",
       "      <td>24.9</td>\n",
       "      <td>92.0</td>\n",
       "      <td>23.6</td>\n",
       "      <td>32.7</td>\n",
       "      <td>1006.1</td>\n",
       "      <td>1008.4</td>\n",
       "      <td>0.0</td>\n",
       "      <td>81.0</td>\n",
       "      <td>34.0</td>\n",
       "      <td>...</td>\n",
       "      <td>0.24</td>\n",
       "      <td>26.5</td>\n",
       "      <td>28.2</td>\n",
       "      <td>28.7</td>\n",
       "      <td>29.3</td>\n",
       "      <td>0.297</td>\n",
       "      <td>0.306</td>\n",
       "      <td>0.281</td>\n",
       "      <td>0.28</td>\n",
       "      <td>su</td>\n",
       "    </tr>\n",
       "    <tr>\n",
       "      <th>3</th>\n",
       "      <td>2018-01-01T03:00</td>\n",
       "      <td>25.1</td>\n",
       "      <td>89.0</td>\n",
       "      <td>23.3</td>\n",
       "      <td>32.1</td>\n",
       "      <td>1005.3</td>\n",
       "      <td>1007.6</td>\n",
       "      <td>0.0</td>\n",
       "      <td>65.0</td>\n",
       "      <td>29.0</td>\n",
       "      <td>...</td>\n",
       "      <td>0.33</td>\n",
       "      <td>26.2</td>\n",
       "      <td>28.1</td>\n",
       "      <td>28.7</td>\n",
       "      <td>29.3</td>\n",
       "      <td>0.296</td>\n",
       "      <td>0.305</td>\n",
       "      <td>0.282</td>\n",
       "      <td>0.28</td>\n",
       "      <td>su</td>\n",
       "    </tr>\n",
       "    <tr>\n",
       "      <th>4</th>\n",
       "      <td>2018-01-01T04:00</td>\n",
       "      <td>24.8</td>\n",
       "      <td>91.0</td>\n",
       "      <td>23.3</td>\n",
       "      <td>31.9</td>\n",
       "      <td>1005.3</td>\n",
       "      <td>1007.6</td>\n",
       "      <td>0.0</td>\n",
       "      <td>52.0</td>\n",
       "      <td>12.0</td>\n",
       "      <td>...</td>\n",
       "      <td>0.28</td>\n",
       "      <td>26.0</td>\n",
       "      <td>27.9</td>\n",
       "      <td>28.7</td>\n",
       "      <td>29.3</td>\n",
       "      <td>0.294</td>\n",
       "      <td>0.305</td>\n",
       "      <td>0.282</td>\n",
       "      <td>0.28</td>\n",
       "      <td>su</td>\n",
       "    </tr>\n",
       "  </tbody>\n",
       "</table>\n",
       "<p>5 rows × 32 columns</p>\n",
       "</div>"
      ],
      "text/plain": [
       "               time  temperature_2m (°C)  relativehumidity_2m (%)  \\\n",
       "0  2018-01-01T00:00                 25.0                     94.0   \n",
       "1  2018-01-01T01:00                 25.2                     92.0   \n",
       "2  2018-01-01T02:00                 24.9                     92.0   \n",
       "3  2018-01-01T03:00                 25.1                     89.0   \n",
       "4  2018-01-01T04:00                 24.8                     91.0   \n",
       "\n",
       "   dewpoint_2m (°C)  apparent_temperature (°C)  pressure_msl (hPa)  \\\n",
       "0              24.1                       32.3              1007.0   \n",
       "1              23.8                       32.5              1006.5   \n",
       "2              23.6                       32.7              1006.1   \n",
       "3              23.3                       32.1              1005.3   \n",
       "4              23.3                       31.9              1005.3   \n",
       "\n",
       "   surface_pressure (hPa)  snowfall (cm)  cloudcover (%)  cloudcover_low (%)  \\\n",
       "0                  1009.3            0.0            82.0                33.0   \n",
       "1                  1008.8            0.0           100.0                45.0   \n",
       "2                  1008.4            0.0            81.0                34.0   \n",
       "3                  1007.6            0.0            65.0                29.0   \n",
       "4                  1007.6            0.0            52.0                12.0   \n",
       "\n",
       "   ...  vapor_pressure_deficit (kPa)  soil_temperature_0_to_7cm (°C)  \\\n",
       "0  ...                          0.18                            26.8   \n",
       "1  ...                          0.27                            26.6   \n",
       "2  ...                          0.24                            26.5   \n",
       "3  ...                          0.33                            26.2   \n",
       "4  ...                          0.28                            26.0   \n",
       "\n",
       "   soil_temperature_7_to_28cm (°C)  soil_temperature_28_to_100cm (°C)  \\\n",
       "0                             28.5                               28.7   \n",
       "1                             28.4                               28.7   \n",
       "2                             28.2                               28.7   \n",
       "3                             28.1                               28.7   \n",
       "4                             27.9                               28.7   \n",
       "\n",
       "   soil_temperature_100_to_255cm (°C)  soil_moisture_0_to_7cm (m³/m³)  \\\n",
       "0                                29.3                           0.298   \n",
       "1                                29.3                           0.298   \n",
       "2                                29.3                           0.297   \n",
       "3                                29.3                           0.296   \n",
       "4                                29.3                           0.294   \n",
       "\n",
       "   soil_moisture_7_to_28cm (m³/m³)  soil_moisture_28_to_100cm (m³/m³)  \\\n",
       "0                            0.307                              0.281   \n",
       "1                            0.307                              0.281   \n",
       "2                            0.306                              0.281   \n",
       "3                            0.305                              0.282   \n",
       "4                            0.305                              0.282   \n",
       "\n",
       "   soil_moisture_100_to_255cm (m³/m³)  city  \n",
       "0                                0.28    su  \n",
       "1                                0.28    su  \n",
       "2                                0.28    su  \n",
       "3                                0.28    su  \n",
       "4                                0.28    su  \n",
       "\n",
       "[5 rows x 32 columns]"
      ]
     },
     "execution_count": 4,
     "metadata": {},
     "output_type": "execute_result"
    }
   ],
   "source": [
    "train_h_data.head()"
   ]
  },
  {
   "cell_type": "code",
   "execution_count": 6,
   "metadata": {},
   "outputs": [
    {
     "data": {
      "text/plain": [
       "Index(['time', 'temperature_2m_max (°C)', 'temperature_2m_min (°C)',\n",
       "       'apparent_temperature_max (°C)', 'apparent_temperature_min (°C)',\n",
       "       'sunrise (iso8601)', 'sunset (iso8601)',\n",
       "       'shortwave_radiation_sum (MJ/m²)', 'rain_sum (mm)', 'snowfall_sum (cm)',\n",
       "       'windspeed_10m_max (km/h)', 'windgusts_10m_max (km/h)',\n",
       "       'winddirection_10m_dominant (°)', 'et0_fao_evapotranspiration (mm)',\n",
       "       'elevation', 'city'],\n",
       "      dtype='object')"
      ]
     },
     "execution_count": 6,
     "metadata": {},
     "output_type": "execute_result"
    }
   ],
   "source": [
    "train_data.columns"
   ]
  },
  {
   "cell_type": "code",
   "execution_count": 7,
   "metadata": {},
   "outputs": [
    {
     "data": {
      "text/plain": [
       "Index(['time', 'temperature_2m (°C)', 'relativehumidity_2m (%)',\n",
       "       'dewpoint_2m (°C)', 'apparent_temperature (°C)', 'pressure_msl (hPa)',\n",
       "       'surface_pressure (hPa)', 'snowfall (cm)', 'cloudcover (%)',\n",
       "       'cloudcover_low (%)', 'cloudcover_mid (%)', 'cloudcover_high (%)',\n",
       "       'shortwave_radiation (W/m²)', 'direct_radiation (W/m²)',\n",
       "       'diffuse_radiation (W/m²)', 'direct_normal_irradiance (W/m²)',\n",
       "       'windspeed_10m (km/h)', 'windspeed_100m (km/h)',\n",
       "       'winddirection_10m (°)', 'winddirection_100m (°)',\n",
       "       'windgusts_10m (km/h)', 'et0_fao_evapotranspiration (mm)',\n",
       "       'vapor_pressure_deficit (kPa)', 'soil_temperature_0_to_7cm (°C)',\n",
       "       'soil_temperature_7_to_28cm (°C)', 'soil_temperature_28_to_100cm (°C)',\n",
       "       'soil_temperature_100_to_255cm (°C)', 'soil_moisture_0_to_7cm (m³/m³)',\n",
       "       'soil_moisture_7_to_28cm (m³/m³)', 'soil_moisture_28_to_100cm (m³/m³)',\n",
       "       'soil_moisture_100_to_255cm (m³/m³)', 'city'],\n",
       "      dtype='object')"
      ]
     },
     "execution_count": 7,
     "metadata": {},
     "output_type": "execute_result"
    }
   ],
   "source": [
    "train_h_data.columns"
   ]
  },
  {
   "cell_type": "markdown",
   "metadata": {},
   "source": [
    "# Data Cleansing"
   ]
  },
  {
   "cell_type": "code",
   "execution_count": 8,
   "metadata": {},
   "outputs": [
    {
     "data": {
      "text/plain": [
       "<AxesSubplot:>"
      ]
     },
     "execution_count": 8,
     "metadata": {},
     "output_type": "execute_result"
    },
    {
     "data": {
      "image/png": "[encoded data removed]",
      "text/plain": [
       "<Figure size 432x288 with 1 Axes>"
      ]
     },
     "metadata": {
      "needs_background": "light"
     },
     "output_type": "display_data"
    }
   ],
   "source": [
    "sns.heatmap(train_data.isnull(), cbar=False)"
   ]
  },
  {
   "cell_type": "code",
   "execution_count": 9,
   "metadata": {},
   "outputs": [
    {
     "data": {
      "text/plain": [
       "<AxesSubplot:>"
      ]
     },
     "execution_count": 9,
     "metadata": {},
     "output_type": "execute_result"
    },
    {
     "data": {
      "image/png": "[encoded data removed]",
      "text/plain": [
       "<Figure size 432x288 with 1 Axes>"
      ]
     },
     "metadata": {
      "needs_background": "light"
     },
     "output_type": "display_data"
    }
   ],
   "source": [
    "sns.heatmap(train_h_data.isnull(), cbar=False)"
   ]
  },
  {
   "cell_type": "code",
   "execution_count": 10,
   "metadata": {},
   "outputs": [],
   "source": [
    "train_data = pd.read_csv('train.csv')\n",
    "train_h_data = pd.read_csv('train_hourly.csv')\n",
    "test_data = pd.read_csv('test.csv')\n",
    "test_h_data = pd.read_csv('test_hourly.csv')\n",
    "\n",
    "train_h_grouped_data = train_h_data.copy()\n",
    "\n",
    "train_h_grouped_data[\"time_d\"] = pd.to_datetime(train_h_grouped_data[\"time\"]).dt.date\n",
    "train_h_grouped_data[\"time_d\"] = train_h_grouped_data[\"time_d\"].apply(str) \n",
    "\n",
    "train_h_grouped_data.fillna(0)\n",
    "\n",
    "train_h_avg_data = train_h_grouped_data.groupby('time').mean().reset_index().copy()\n",
    "train_h_max_data = train_h_grouped_data.groupby('time').max().reset_index().copy()\n",
    "train_h_min_data = train_h_grouped_data.groupby('time').min().reset_index().copy()"
   ]
  },
  {
   "cell_type": "code",
   "execution_count": 11,
   "metadata": {},
   "outputs": [
    {
     "data": {
      "text/plain": [
       "1315"
      ]
     },
     "execution_count": 11,
     "metadata": {},
     "output_type": "execute_result"
    }
   ],
   "source": [
    "sums = 0\n",
    "for i in train_h_grouped_data['time_d'].value_counts(): \n",
    "    if i >= 240:\n",
    "        sums += 1 \n",
    "\n",
    "sums"
   ]
  },
  {
   "cell_type": "code",
   "execution_count": 12,
   "metadata": {},
   "outputs": [
    {
     "data": {
      "text/plain": [
       "array(['2018-01-01', '2018-01-02', '2018-01-03', ..., '2022-06-30',\n",
       "       '2021-08-02', '2022-04-23'], dtype=object)"
      ]
     },
     "execution_count": 12,
     "metadata": {},
     "output_type": "execute_result"
    }
   ],
   "source": [
    "train_h_grouped_data['time_d'].unique()"
   ]
  },
  {
   "cell_type": "markdown",
   "metadata": {},
   "source": [
    "Good data : "
   ]
  },
  {
   "cell_type": "code",
   "execution_count": 13,
   "metadata": {},
   "outputs": [
    {
     "data": {
      "text/plain": [
       "103"
      ]
     },
     "execution_count": 13,
     "metadata": {},
     "output_type": "execute_result"
    }
   ],
   "source": [
    "1418-1315"
   ]
  },
  {
   "cell_type": "code",
   "execution_count": 14,
   "metadata": {},
   "outputs": [],
   "source": [
    "for i in train_data['time']:\n",
    "    if i not in list(train_h_grouped_data['time_d'].unique()):\n",
    "        print(i)"
   ]
  },
  {
   "cell_type": "markdown",
   "metadata": {},
   "source": [
    "Train Data Total: 13258\n",
    "\n",
    "Train Hourly Data Total: 318192"
   ]
  },
  {
   "cell_type": "code",
   "execution_count": 15,
   "metadata": {},
   "outputs": [
    {
     "data": {
      "text/plain": [
       "<AxesSubplot:>"
      ]
     },
     "execution_count": 15,
     "metadata": {},
     "output_type": "execute_result"
    },
    {
     "data": {
      "image/png": "[encoded data removed]",
      "text/plain": [
       "<Figure size 432x288 with 1 Axes>"
      ]
     },
     "metadata": {
      "needs_background": "light"
     },
     "output_type": "display_data"
    }
   ],
   "source": [
    "sns.heatmap(train_h_grouped_data.isnull(), cbar=False)"
   ]
  },
  {
   "cell_type": "markdown",
   "metadata": {},
   "source": [
    "# Model"
   ]
  },
  {
   "cell_type": "code",
   "execution_count": null,
   "metadata": {},
   "outputs": [],
   "source": []
  },
  {
   "cell_type": "code",
   "execution_count": null,
   "metadata": {},
   "outputs": [],
   "source": []
  }
 ],
 "metadata": {
  "kernelspec": {
   "display_name": "Python 3.9.7 64-bit",
   "language": "python",
   "name": "python3"
  },
  "language_info": {
   "codemirror_mode": {
    "name": "ipython",
    "version": 3
   },
   "file_extension": ".py",
   "mimetype": "text/x-python",
   "name": "python",
   "nbconvert_exporter": "python",
   "pygments_lexer": "ipython3",
   "version": "3.9.7"
  },
  "orig_nbformat": 4,
  "vscode": {
   "interpreter": {
    "hash": "2d571ec8d1421e0b630aebcd1682a2b89be00a90183cf25a088cb1e6b5d1e12f"
   }
  }
 },
 "nbformat": 4,
 "nbformat_minor": 2
}
