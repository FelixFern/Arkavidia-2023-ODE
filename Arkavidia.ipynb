{
 "cells": [
  {
   "cell_type": "markdown",
   "metadata": {},
   "source": [
    "Goal : Predict rain sum (mm)"
   ]
  },
  {
   "cell_type": "markdown",
   "metadata": {},
   "source": [
    "# Library"
   ]
  },
  {
   "cell_type": "code",
   "execution_count": 1,
   "metadata": {},
   "outputs": [],
   "source": [
    "import pandas as pd\n",
    "import numpy as np\n",
    "import matplotlib.pyplot as plt\n",
    "import seaborn as sns"
   ]
  },
  {
   "cell_type": "markdown",
   "metadata": {},
   "source": [
    "# Loading Data"
   ]
  },
  {
   "cell_type": "code",
   "execution_count": 2,
   "metadata": {},
   "outputs": [],
   "source": [
    "train_data = pd.read_csv('train.csv')\n",
    "train_h_data = pd.read_csv('train_hourly.csv')\n",
    "test_data = pd.read_csv('test.csv')\n",
    "test_h_data = pd.read_csv('test_hourly.csv')"
   ]
  },
  {
   "cell_type": "code",
   "execution_count": 3,
   "metadata": {},
   "outputs": [
    {
     "name": "stdout",
     "output_type": "stream",
     "text": [
      "<class 'pandas.core.frame.DataFrame'>\n",
      "RangeIndex: 13258 entries, 0 to 13257\n",
      "Data columns (total 16 columns):\n",
      " #   Column                           Non-Null Count  Dtype  \n",
      "---  ------                           --------------  -----  \n",
      " 0   time                             13258 non-null  object \n",
      " 1   temperature_2m_max (°C)          13208 non-null  float64\n",
      " 2   temperature_2m_min (°C)          13208 non-null  float64\n",
      " 3   apparent_temperature_max (°C)    13208 non-null  float64\n",
      " 4   apparent_temperature_min (°C)    13208 non-null  float64\n",
      " 5   sunrise (iso8601)                13258 non-null  object \n",
      " 6   sunset (iso8601)                 13258 non-null  object \n",
      " 7   shortwave_radiation_sum (MJ/m²)  13198 non-null  float64\n",
      " 8   rain_sum (mm)                    13198 non-null  float64\n",
      " 9   snowfall_sum (cm)                13198 non-null  float64\n",
      " 10  windspeed_10m_max (km/h)         13208 non-null  float64\n",
      " 11  windgusts_10m_max (km/h)         13208 non-null  float64\n",
      " 12  winddirection_10m_dominant (°)   12792 non-null  float64\n",
      " 13  et0_fao_evapotranspiration (mm)  13198 non-null  float64\n",
      " 14  elevation                        13258 non-null  int64  \n",
      " 15  city                             13258 non-null  object \n",
      "dtypes: float64(11), int64(1), object(4)\n",
      "memory usage: 1.6+ MB\n"
     ]
    }
   ],
   "source": [
    "train_data.info()"
   ]
  },
  {
   "cell_type": "code",
   "execution_count": 4,
   "metadata": {},
   "outputs": [
    {
     "name": "stdout",
     "output_type": "stream",
     "text": [
      "<class 'pandas.core.frame.DataFrame'>\n",
      "RangeIndex: 318192 entries, 0 to 318191\n",
      "Data columns (total 32 columns):\n",
      " #   Column                              Non-Null Count   Dtype  \n",
      "---  ------                              --------------   -----  \n",
      " 0   time                                318192 non-null  object \n",
      " 1   temperature_2m (°C)                 318022 non-null  float64\n",
      " 2   relativehumidity_2m (%)             318022 non-null  float64\n",
      " 3   dewpoint_2m (°C)                    318022 non-null  float64\n",
      " 4   apparent_temperature (°C)           318022 non-null  float64\n",
      " 5   pressure_msl (hPa)                  318022 non-null  float64\n",
      " 6   surface_pressure (hPa)              318022 non-null  float64\n",
      " 7   snowfall (cm)                       318022 non-null  float64\n",
      " 8   cloudcover (%)                      318022 non-null  float64\n",
      " 9   cloudcover_low (%)                  318022 non-null  float64\n",
      " 10  cloudcover_mid (%)                  318022 non-null  float64\n",
      " 11  cloudcover_high (%)                 318022 non-null  float64\n",
      " 12  shortwave_radiation (W/m²)          318022 non-null  float64\n",
      " 13  direct_radiation (W/m²)             318022 non-null  float64\n",
      " 14  diffuse_radiation (W/m²)            318022 non-null  float64\n",
      " 15  direct_normal_irradiance (W/m²)     318032 non-null  float64\n",
      " 16  windspeed_10m (km/h)                318022 non-null  float64\n",
      " 17  windspeed_100m (km/h)               318022 non-null  float64\n",
      " 18  winddirection_10m (°)               317590 non-null  float64\n",
      " 19  winddirection_100m (°)              317845 non-null  float64\n",
      " 20  windgusts_10m (km/h)                318022 non-null  float64\n",
      " 21  et0_fao_evapotranspiration (mm)     318022 non-null  float64\n",
      " 22  vapor_pressure_deficit (kPa)        318022 non-null  float64\n",
      " 23  soil_temperature_0_to_7cm (°C)      318022 non-null  float64\n",
      " 24  soil_temperature_7_to_28cm (°C)     318022 non-null  float64\n",
      " 25  soil_temperature_28_to_100cm (°C)   318022 non-null  float64\n",
      " 26  soil_temperature_100_to_255cm (°C)  318022 non-null  float64\n",
      " 27  soil_moisture_0_to_7cm (m³/m³)      318022 non-null  float64\n",
      " 28  soil_moisture_7_to_28cm (m³/m³)     318022 non-null  float64\n",
      " 29  soil_moisture_28_to_100cm (m³/m³)   318022 non-null  float64\n",
      " 30  soil_moisture_100_to_255cm (m³/m³)  318022 non-null  float64\n",
      " 31  city                                318192 non-null  object \n",
      "dtypes: float64(30), object(2)\n",
      "memory usage: 77.7+ MB\n"
     ]
    }
   ],
   "source": [
    "train_h_data.info()"
   ]
  },
  {
   "cell_type": "code",
   "execution_count": 5,
   "metadata": {},
   "outputs": [
    {
     "name": "stdout",
     "output_type": "stream",
     "text": [
      "<class 'pandas.core.frame.DataFrame'>\n",
      "RangeIndex: 4972 entries, 0 to 4971\n",
      "Data columns (total 16 columns):\n",
      " #   Column                           Non-Null Count  Dtype  \n",
      "---  ------                           --------------  -----  \n",
      " 0   id                               4972 non-null   int64  \n",
      " 1   time                             4972 non-null   object \n",
      " 2   temperature_2m_max (°C)          4972 non-null   float64\n",
      " 3   temperature_2m_min (°C)          4972 non-null   float64\n",
      " 4   apparent_temperature_max (°C)    4972 non-null   float64\n",
      " 5   apparent_temperature_min (°C)    4972 non-null   float64\n",
      " 6   sunrise (iso8601)                4972 non-null   object \n",
      " 7   sunset (iso8601)                 4972 non-null   object \n",
      " 8   shortwave_radiation_sum (MJ/m²)  4972 non-null   float64\n",
      " 9   snowfall_sum (cm)                4972 non-null   float64\n",
      " 10  windspeed_10m_max (km/h)         4972 non-null   float64\n",
      " 11  windgusts_10m_max (km/h)         4972 non-null   float64\n",
      " 12  winddirection_10m_dominant (°)   4972 non-null   float64\n",
      " 13  et0_fao_evapotranspiration (mm)  4972 non-null   float64\n",
      " 14  elevation                        4972 non-null   int64  \n",
      " 15  city                             4972 non-null   object \n",
      "dtypes: float64(10), int64(2), object(4)\n",
      "memory usage: 621.6+ KB\n"
     ]
    }
   ],
   "source": [
    "test_data.info()"
   ]
  },
  {
   "cell_type": "code",
   "execution_count": 6,
   "metadata": {},
   "outputs": [
    {
     "name": "stdout",
     "output_type": "stream",
     "text": [
      "<class 'pandas.core.frame.DataFrame'>\n",
      "RangeIndex: 119328 entries, 0 to 119327\n",
      "Data columns (total 32 columns):\n",
      " #   Column                              Non-Null Count   Dtype  \n",
      "---  ------                              --------------   -----  \n",
      " 0   time                                119328 non-null  object \n",
      " 1   temperature_2m (°C)                 119328 non-null  float64\n",
      " 2   relativehumidity_2m (%)             119328 non-null  float64\n",
      " 3   dewpoint_2m (°C)                    119328 non-null  float64\n",
      " 4   apparent_temperature (°C)           119328 non-null  float64\n",
      " 5   pressure_msl (hPa)                  119328 non-null  float64\n",
      " 6   surface_pressure (hPa)              119328 non-null  float64\n",
      " 7   snowfall (cm)                       119328 non-null  float64\n",
      " 8   cloudcover (%)                      119328 non-null  float64\n",
      " 9   cloudcover_low (%)                  119328 non-null  float64\n",
      " 10  cloudcover_mid (%)                  119328 non-null  float64\n",
      " 11  cloudcover_high (%)                 119328 non-null  float64\n",
      " 12  shortwave_radiation (W/m²)          119328 non-null  float64\n",
      " 13  direct_radiation (W/m²)             119328 non-null  float64\n",
      " 14  diffuse_radiation (W/m²)            119328 non-null  float64\n",
      " 15  direct_normal_irradiance (W/m²)     119328 non-null  float64\n",
      " 16  windspeed_10m (km/h)                119328 non-null  float64\n",
      " 17  windspeed_100m (km/h)               119328 non-null  float64\n",
      " 18  winddirection_10m (°)               119328 non-null  float64\n",
      " 19  winddirection_100m (°)              119272 non-null  float64\n",
      " 20  windgusts_10m (km/h)                119328 non-null  float64\n",
      " 21  et0_fao_evapotranspiration (mm)     119328 non-null  float64\n",
      " 22  vapor_pressure_deficit (kPa)        119328 non-null  float64\n",
      " 23  soil_temperature_0_to_7cm (°C)      119328 non-null  float64\n",
      " 24  soil_temperature_7_to_28cm (°C)     119328 non-null  float64\n",
      " 25  soil_temperature_28_to_100cm (°C)   119328 non-null  float64\n",
      " 26  soil_temperature_100_to_255cm (°C)  119328 non-null  float64\n",
      " 27  soil_moisture_0_to_7cm (m³/m³)      119328 non-null  float64\n",
      " 28  soil_moisture_7_to_28cm (m³/m³)     119328 non-null  float64\n",
      " 29  soil_moisture_28_to_100cm (m³/m³)   119328 non-null  float64\n",
      " 30  soil_moisture_100_to_255cm (m³/m³)  119328 non-null  float64\n",
      " 31  city                                119328 non-null  object \n",
      "dtypes: float64(30), object(2)\n",
      "memory usage: 29.1+ MB\n"
     ]
    }
   ],
   "source": [
    "test_h_data.info()"
   ]
  },
  {
   "cell_type": "markdown",
   "metadata": {},
   "source": [
    "hanya data hourly mengenai winddirection_100m yang memiliki Null"
   ]
  },
  {
   "cell_type": "code",
   "execution_count": 19,
   "metadata": {},
   "outputs": [
    {
     "data": {
      "text/plain": [
       "1418"
      ]
     },
     "execution_count": 19,
     "metadata": {},
     "output_type": "execute_result"
    }
   ],
   "source": [
    "train_data['time'].nunique()"
   ]
  },
  {
   "cell_type": "code",
   "execution_count": 31,
   "metadata": {},
   "outputs": [
    {
     "data": {
      "text/html": [
       "<div>\n",
       "<style scoped>\n",
       "    .dataframe tbody tr th:only-of-type {\n",
       "        vertical-align: middle;\n",
       "    }\n",
       "\n",
       "    .dataframe tbody tr th {\n",
       "        vertical-align: top;\n",
       "    }\n",
       "\n",
       "    .dataframe thead th {\n",
       "        text-align: right;\n",
       "    }\n",
       "</style>\n",
       "<table border=\"1\" class=\"dataframe\">\n",
       "  <thead>\n",
       "    <tr style=\"text-align: right;\">\n",
       "      <th></th>\n",
       "      <th>time</th>\n",
       "      <th>temperature_2m_max (°C)</th>\n",
       "      <th>temperature_2m_min (°C)</th>\n",
       "      <th>apparent_temperature_max (°C)</th>\n",
       "      <th>apparent_temperature_min (°C)</th>\n",
       "      <th>sunrise (iso8601)</th>\n",
       "      <th>sunset (iso8601)</th>\n",
       "      <th>shortwave_radiation_sum (MJ/m²)</th>\n",
       "      <th>rain_sum (mm)</th>\n",
       "      <th>snowfall_sum (cm)</th>\n",
       "      <th>...</th>\n",
       "      <th>elevation</th>\n",
       "      <th>city</th>\n",
       "      <th>relativehumidity_2m_max (%)</th>\n",
       "      <th>relativehumidity_2m_min (%)</th>\n",
       "      <th>windspeed_10m_min (km/h)</th>\n",
       "      <th>windgusts_10m_min (km/h)</th>\n",
       "      <th>temperature_2m_avg (°C)</th>\n",
       "      <th>relativehumidity_2m_avg (%)</th>\n",
       "      <th>windspeed_10m_avg (km/h)</th>\n",
       "      <th>windgusts_10m_avg (km/h)</th>\n",
       "    </tr>\n",
       "  </thead>\n",
       "  <tbody>\n",
       "    <tr>\n",
       "      <th>0</th>\n",
       "      <td>2018-01-01</td>\n",
       "      <td>16.5</td>\n",
       "      <td>16.5</td>\n",
       "      <td>36.3</td>\n",
       "      <td>31.6</td>\n",
       "      <td>2018-01-01T05:15</td>\n",
       "      <td>2018-01-01T17:49</td>\n",
       "      <td>17.59</td>\n",
       "      <td>7.7</td>\n",
       "      <td>0.0</td>\n",
       "      <td>...</td>\n",
       "      <td>0</td>\n",
       "      <td>su</td>\n",
       "      <td>99.0</td>\n",
       "      <td>99.0</td>\n",
       "      <td>1.5</td>\n",
       "      <td>10.1</td>\n",
       "      <td>16.5</td>\n",
       "      <td>99.0</td>\n",
       "      <td>1.5</td>\n",
       "      <td>10.1</td>\n",
       "    </tr>\n",
       "    <tr>\n",
       "      <th>1</th>\n",
       "      <td>2018-01-02</td>\n",
       "      <td>25.5</td>\n",
       "      <td>25.5</td>\n",
       "      <td>37.7</td>\n",
       "      <td>31.2</td>\n",
       "      <td>2018-01-02T05:15</td>\n",
       "      <td>2018-01-02T17:50</td>\n",
       "      <td>19.87</td>\n",
       "      <td>9.4</td>\n",
       "      <td>0.0</td>\n",
       "      <td>...</td>\n",
       "      <td>0</td>\n",
       "      <td>su</td>\n",
       "      <td>96.0</td>\n",
       "      <td>96.0</td>\n",
       "      <td>3.4</td>\n",
       "      <td>6.8</td>\n",
       "      <td>25.5</td>\n",
       "      <td>96.0</td>\n",
       "      <td>3.4</td>\n",
       "      <td>6.8</td>\n",
       "    </tr>\n",
       "    <tr>\n",
       "      <th>2</th>\n",
       "      <td>2018-01-03</td>\n",
       "      <td>24.0</td>\n",
       "      <td>24.0</td>\n",
       "      <td>40.3</td>\n",
       "      <td>31.7</td>\n",
       "      <td>2018-01-03T05:16</td>\n",
       "      <td>2018-01-03T17:50</td>\n",
       "      <td>20.44</td>\n",
       "      <td>7.8</td>\n",
       "      <td>0.0</td>\n",
       "      <td>...</td>\n",
       "      <td>0</td>\n",
       "      <td>su</td>\n",
       "      <td>95.0</td>\n",
       "      <td>95.0</td>\n",
       "      <td>6.3</td>\n",
       "      <td>16.2</td>\n",
       "      <td>24.0</td>\n",
       "      <td>95.0</td>\n",
       "      <td>6.3</td>\n",
       "      <td>16.2</td>\n",
       "    </tr>\n",
       "    <tr>\n",
       "      <th>3</th>\n",
       "      <td>2018-01-04</td>\n",
       "      <td>25.4</td>\n",
       "      <td>25.4</td>\n",
       "      <td>39.1</td>\n",
       "      <td>31.6</td>\n",
       "      <td>2018-01-04T05:16</td>\n",
       "      <td>2018-01-04T17:50</td>\n",
       "      <td>20.44</td>\n",
       "      <td>29.7</td>\n",
       "      <td>0.0</td>\n",
       "      <td>...</td>\n",
       "      <td>0</td>\n",
       "      <td>su</td>\n",
       "      <td>87.0</td>\n",
       "      <td>87.0</td>\n",
       "      <td>4.8</td>\n",
       "      <td>18.4</td>\n",
       "      <td>25.4</td>\n",
       "      <td>87.0</td>\n",
       "      <td>4.8</td>\n",
       "      <td>18.4</td>\n",
       "    </tr>\n",
       "    <tr>\n",
       "      <th>4</th>\n",
       "      <td>2018-01-05</td>\n",
       "      <td>-21.5</td>\n",
       "      <td>-21.5</td>\n",
       "      <td>37.6</td>\n",
       "      <td>29.9</td>\n",
       "      <td>2018-01-05T05:17</td>\n",
       "      <td>2018-01-05T17:51</td>\n",
       "      <td>20.10</td>\n",
       "      <td>22.5</td>\n",
       "      <td>0.0</td>\n",
       "      <td>...</td>\n",
       "      <td>0</td>\n",
       "      <td>su</td>\n",
       "      <td>72.0</td>\n",
       "      <td>72.0</td>\n",
       "      <td>9.2</td>\n",
       "      <td>12.6</td>\n",
       "      <td>-21.5</td>\n",
       "      <td>72.0</td>\n",
       "      <td>9.2</td>\n",
       "      <td>12.6</td>\n",
       "    </tr>\n",
       "    <tr>\n",
       "      <th>...</th>\n",
       "      <td>...</td>\n",
       "      <td>...</td>\n",
       "      <td>...</td>\n",
       "      <td>...</td>\n",
       "      <td>...</td>\n",
       "      <td>...</td>\n",
       "      <td>...</td>\n",
       "      <td>...</td>\n",
       "      <td>...</td>\n",
       "      <td>...</td>\n",
       "      <td>...</td>\n",
       "      <td>...</td>\n",
       "      <td>...</td>\n",
       "      <td>...</td>\n",
       "      <td>...</td>\n",
       "      <td>...</td>\n",
       "      <td>...</td>\n",
       "      <td>...</td>\n",
       "      <td>...</td>\n",
       "      <td>...</td>\n",
       "      <td>...</td>\n",
       "    </tr>\n",
       "    <tr>\n",
       "      <th>13253</th>\n",
       "      <td>2022-12-24</td>\n",
       "      <td>25.8</td>\n",
       "      <td>25.8</td>\n",
       "      <td>NaN</td>\n",
       "      <td>NaN</td>\n",
       "      <td>1970-01-01T07:00</td>\n",
       "      <td>1970-01-01T07:00</td>\n",
       "      <td>NaN</td>\n",
       "      <td>NaN</td>\n",
       "      <td>NaN</td>\n",
       "      <td>...</td>\n",
       "      <td>0</td>\n",
       "      <td>q</td>\n",
       "      <td>90.0</td>\n",
       "      <td>90.0</td>\n",
       "      <td>1.3</td>\n",
       "      <td>7.6</td>\n",
       "      <td>25.8</td>\n",
       "      <td>90.0</td>\n",
       "      <td>1.3</td>\n",
       "      <td>7.6</td>\n",
       "    </tr>\n",
       "    <tr>\n",
       "      <th>13254</th>\n",
       "      <td>2022-12-25</td>\n",
       "      <td>-18.7</td>\n",
       "      <td>-18.7</td>\n",
       "      <td>NaN</td>\n",
       "      <td>NaN</td>\n",
       "      <td>1970-01-01T07:00</td>\n",
       "      <td>1970-01-01T07:00</td>\n",
       "      <td>NaN</td>\n",
       "      <td>NaN</td>\n",
       "      <td>NaN</td>\n",
       "      <td>...</td>\n",
       "      <td>0</td>\n",
       "      <td>q</td>\n",
       "      <td>55.0</td>\n",
       "      <td>55.0</td>\n",
       "      <td>2.9</td>\n",
       "      <td>9.0</td>\n",
       "      <td>-18.7</td>\n",
       "      <td>55.0</td>\n",
       "      <td>2.9</td>\n",
       "      <td>9.0</td>\n",
       "    </tr>\n",
       "    <tr>\n",
       "      <th>13255</th>\n",
       "      <td>2022-12-26</td>\n",
       "      <td>-11.3</td>\n",
       "      <td>-11.3</td>\n",
       "      <td>NaN</td>\n",
       "      <td>NaN</td>\n",
       "      <td>1970-01-01T07:00</td>\n",
       "      <td>1970-01-01T07:00</td>\n",
       "      <td>NaN</td>\n",
       "      <td>NaN</td>\n",
       "      <td>NaN</td>\n",
       "      <td>...</td>\n",
       "      <td>0</td>\n",
       "      <td>q</td>\n",
       "      <td>79.0</td>\n",
       "      <td>79.0</td>\n",
       "      <td>16.8</td>\n",
       "      <td>40.0</td>\n",
       "      <td>-11.3</td>\n",
       "      <td>79.0</td>\n",
       "      <td>16.8</td>\n",
       "      <td>40.0</td>\n",
       "    </tr>\n",
       "    <tr>\n",
       "      <th>13256</th>\n",
       "      <td>2022-12-27</td>\n",
       "      <td>23.8</td>\n",
       "      <td>23.8</td>\n",
       "      <td>NaN</td>\n",
       "      <td>NaN</td>\n",
       "      <td>1970-01-01T07:00</td>\n",
       "      <td>1970-01-01T07:00</td>\n",
       "      <td>NaN</td>\n",
       "      <td>NaN</td>\n",
       "      <td>NaN</td>\n",
       "      <td>...</td>\n",
       "      <td>0</td>\n",
       "      <td>q</td>\n",
       "      <td>99.0</td>\n",
       "      <td>99.0</td>\n",
       "      <td>3.3</td>\n",
       "      <td>7.9</td>\n",
       "      <td>23.8</td>\n",
       "      <td>99.0</td>\n",
       "      <td>3.3</td>\n",
       "      <td>7.9</td>\n",
       "    </tr>\n",
       "    <tr>\n",
       "      <th>13257</th>\n",
       "      <td>2022-12-28</td>\n",
       "      <td>24.3</td>\n",
       "      <td>24.3</td>\n",
       "      <td>NaN</td>\n",
       "      <td>NaN</td>\n",
       "      <td>1970-01-01T07:00</td>\n",
       "      <td>1970-01-01T07:00</td>\n",
       "      <td>NaN</td>\n",
       "      <td>NaN</td>\n",
       "      <td>NaN</td>\n",
       "      <td>...</td>\n",
       "      <td>0</td>\n",
       "      <td>q</td>\n",
       "      <td>93.0</td>\n",
       "      <td>93.0</td>\n",
       "      <td>8.6</td>\n",
       "      <td>13.7</td>\n",
       "      <td>24.3</td>\n",
       "      <td>93.0</td>\n",
       "      <td>8.6</td>\n",
       "      <td>13.7</td>\n",
       "    </tr>\n",
       "  </tbody>\n",
       "</table>\n",
       "<p>13258 rows × 24 columns</p>\n",
       "</div>"
      ],
      "text/plain": [
       "             time  temperature_2m_max (°C)  temperature_2m_min (°C)  \\\n",
       "0      2018-01-01                     16.5                     16.5   \n",
       "1      2018-01-02                     25.5                     25.5   \n",
       "2      2018-01-03                     24.0                     24.0   \n",
       "3      2018-01-04                     25.4                     25.4   \n",
       "4      2018-01-05                    -21.5                    -21.5   \n",
       "...           ...                      ...                      ...   \n",
       "13253  2022-12-24                     25.8                     25.8   \n",
       "13254  2022-12-25                    -18.7                    -18.7   \n",
       "13255  2022-12-26                    -11.3                    -11.3   \n",
       "13256  2022-12-27                     23.8                     23.8   \n",
       "13257  2022-12-28                     24.3                     24.3   \n",
       "\n",
       "       apparent_temperature_max (°C)  apparent_temperature_min (°C)  \\\n",
       "0                               36.3                           31.6   \n",
       "1                               37.7                           31.2   \n",
       "2                               40.3                           31.7   \n",
       "3                               39.1                           31.6   \n",
       "4                               37.6                           29.9   \n",
       "...                              ...                            ...   \n",
       "13253                            NaN                            NaN   \n",
       "13254                            NaN                            NaN   \n",
       "13255                            NaN                            NaN   \n",
       "13256                            NaN                            NaN   \n",
       "13257                            NaN                            NaN   \n",
       "\n",
       "      sunrise (iso8601)  sunset (iso8601)  shortwave_radiation_sum (MJ/m²)  \\\n",
       "0      2018-01-01T05:15  2018-01-01T17:49                            17.59   \n",
       "1      2018-01-02T05:15  2018-01-02T17:50                            19.87   \n",
       "2      2018-01-03T05:16  2018-01-03T17:50                            20.44   \n",
       "3      2018-01-04T05:16  2018-01-04T17:50                            20.44   \n",
       "4      2018-01-05T05:17  2018-01-05T17:51                            20.10   \n",
       "...                 ...               ...                              ...   \n",
       "13253  1970-01-01T07:00  1970-01-01T07:00                              NaN   \n",
       "13254  1970-01-01T07:00  1970-01-01T07:00                              NaN   \n",
       "13255  1970-01-01T07:00  1970-01-01T07:00                              NaN   \n",
       "13256  1970-01-01T07:00  1970-01-01T07:00                              NaN   \n",
       "13257  1970-01-01T07:00  1970-01-01T07:00                              NaN   \n",
       "\n",
       "       rain_sum (mm)  snowfall_sum (cm)  ...  elevation  city  \\\n",
       "0                7.7                0.0  ...          0    su   \n",
       "1                9.4                0.0  ...          0    su   \n",
       "2                7.8                0.0  ...          0    su   \n",
       "3               29.7                0.0  ...          0    su   \n",
       "4               22.5                0.0  ...          0    su   \n",
       "...              ...                ...  ...        ...   ...   \n",
       "13253            NaN                NaN  ...          0     q   \n",
       "13254            NaN                NaN  ...          0     q   \n",
       "13255            NaN                NaN  ...          0     q   \n",
       "13256            NaN                NaN  ...          0     q   \n",
       "13257            NaN                NaN  ...          0     q   \n",
       "\n",
       "       relativehumidity_2m_max (%)  relativehumidity_2m_min (%)  \\\n",
       "0                             99.0                         99.0   \n",
       "1                             96.0                         96.0   \n",
       "2                             95.0                         95.0   \n",
       "3                             87.0                         87.0   \n",
       "4                             72.0                         72.0   \n",
       "...                            ...                          ...   \n",
       "13253                         90.0                         90.0   \n",
       "13254                         55.0                         55.0   \n",
       "13255                         79.0                         79.0   \n",
       "13256                         99.0                         99.0   \n",
       "13257                         93.0                         93.0   \n",
       "\n",
       "       windspeed_10m_min (km/h) windgusts_10m_min (km/h)  \\\n",
       "0                           1.5                     10.1   \n",
       "1                           3.4                      6.8   \n",
       "2                           6.3                     16.2   \n",
       "3                           4.8                     18.4   \n",
       "4                           9.2                     12.6   \n",
       "...                         ...                      ...   \n",
       "13253                       1.3                      7.6   \n",
       "13254                       2.9                      9.0   \n",
       "13255                      16.8                     40.0   \n",
       "13256                       3.3                      7.9   \n",
       "13257                       8.6                     13.7   \n",
       "\n",
       "       temperature_2m_avg (°C)  relativehumidity_2m_avg (%)  \\\n",
       "0                         16.5                         99.0   \n",
       "1                         25.5                         96.0   \n",
       "2                         24.0                         95.0   \n",
       "3                         25.4                         87.0   \n",
       "4                        -21.5                         72.0   \n",
       "...                        ...                          ...   \n",
       "13253                     25.8                         90.0   \n",
       "13254                    -18.7                         55.0   \n",
       "13255                    -11.3                         79.0   \n",
       "13256                     23.8                         99.0   \n",
       "13257                     24.3                         93.0   \n",
       "\n",
       "       windspeed_10m_avg (km/h)  windgusts_10m_avg (km/h)  \n",
       "0                           1.5                      10.1  \n",
       "1                           3.4                       6.8  \n",
       "2                           6.3                      16.2  \n",
       "3                           4.8                      18.4  \n",
       "4                           9.2                      12.6  \n",
       "...                         ...                       ...  \n",
       "13253                       1.3                       7.6  \n",
       "13254                       2.9                       9.0  \n",
       "13255                      16.8                      40.0  \n",
       "13256                       3.3                       7.9  \n",
       "13257                       8.6                      13.7  \n",
       "\n",
       "[13258 rows x 24 columns]"
      ]
     },
     "execution_count": 31,
     "metadata": {},
     "output_type": "execute_result"
    }
   ],
   "source": [
    "train_data"
   ]
  },
  {
   "cell_type": "code",
   "execution_count": 46,
   "metadata": {},
   "outputs": [
    {
     "data": {
      "text/plain": [
       "0    0.0\n",
       "1    0.0\n",
       "2    0.0\n",
       "3    0.0\n",
       "4    0.0\n",
       "Name: shortwave_radiation (W/m²), dtype: float64"
      ]
     },
     "execution_count": 46,
     "metadata": {},
     "output_type": "execute_result"
    }
   ],
   "source": [
    "train_h_data['shortwave_radiation (W/m²)'].head()"
   ]
  },
  {
   "cell_type": "code",
   "execution_count": 6,
   "metadata": {},
   "outputs": [
    {
     "data": {
      "text/plain": [
       "Index(['time', 'temperature_2m_max (°C)', 'temperature_2m_min (°C)',\n",
       "       'apparent_temperature_max (°C)', 'apparent_temperature_min (°C)',\n",
       "       'sunrise (iso8601)', 'sunset (iso8601)',\n",
       "       'shortwave_radiation_sum (MJ/m²)', 'rain_sum (mm)', 'snowfall_sum (cm)',\n",
       "       'windspeed_10m_max (km/h)', 'windgusts_10m_max (km/h)',\n",
       "       'winddirection_10m_dominant (°)', 'et0_fao_evapotranspiration (mm)',\n",
       "       'elevation', 'city'],\n",
       "      dtype='object')"
      ]
     },
     "execution_count": 6,
     "metadata": {},
     "output_type": "execute_result"
    }
   ],
   "source": [
    "train_data.columns"
   ]
  },
  {
   "cell_type": "code",
   "execution_count": 7,
   "metadata": {},
   "outputs": [
    {
     "data": {
      "text/plain": [
       "Index(['time', 'temperature_2m (°C)', 'relativehumidity_2m (%)',\n",
       "       'dewpoint_2m (°C)', 'apparent_temperature (°C)', 'pressure_msl (hPa)',\n",
       "       'surface_pressure (hPa)', 'snowfall (cm)', 'cloudcover (%)',\n",
       "       'cloudcover_low (%)', 'cloudcover_mid (%)', 'cloudcover_high (%)',\n",
       "       'shortwave_radiation (W/m²)', 'direct_radiation (W/m²)',\n",
       "       'diffuse_radiation (W/m²)', 'direct_normal_irradiance (W/m²)',\n",
       "       'windspeed_10m (km/h)', 'windspeed_100m (km/h)',\n",
       "       'winddirection_10m (°)', 'winddirection_100m (°)',\n",
       "       'windgusts_10m (km/h)', 'et0_fao_evapotranspiration (mm)',\n",
       "       'vapor_pressure_deficit (kPa)', 'soil_temperature_0_to_7cm (°C)',\n",
       "       'soil_temperature_7_to_28cm (°C)', 'soil_temperature_28_to_100cm (°C)',\n",
       "       'soil_temperature_100_to_255cm (°C)', 'soil_moisture_0_to_7cm (m³/m³)',\n",
       "       'soil_moisture_7_to_28cm (m³/m³)', 'soil_moisture_28_to_100cm (m³/m³)',\n",
       "       'soil_moisture_100_to_255cm (m³/m³)', 'city'],\n",
       "      dtype='object')"
      ]
     },
     "execution_count": 7,
     "metadata": {},
     "output_type": "execute_result"
    }
   ],
   "source": [
    "train_h_data.columns"
   ]
  },
  {
   "cell_type": "markdown",
   "metadata": {},
   "source": [
    "# Data Cleansing"
   ]
  },
  {
   "cell_type": "code",
   "execution_count": 8,
   "metadata": {},
   "outputs": [
    {
     "data": {
      "text/plain": [
       "<AxesSubplot:>"
      ]
     },
     "execution_count": 8,
     "metadata": {},
     "output_type": "execute_result"
    },
    {
     "data": {
      "image/png": "[encoded data removed]",
      "text/plain": [
       "<Figure size 432x288 with 1 Axes>"
      ]
     },
     "metadata": {
      "needs_background": "light"
     },
     "output_type": "display_data"
    }
   ],
   "source": [
    "sns.heatmap(train_data.isnull(), cbar=False)"
   ]
  },
  {
   "cell_type": "code",
   "execution_count": 9,
   "metadata": {},
   "outputs": [
    {
     "data": {
      "text/plain": [
       "<AxesSubplot:>"
      ]
     },
     "execution_count": 9,
     "metadata": {},
     "output_type": "execute_result"
    },
    {
     "data": {
      "image/png": "[encoded data removed]",
      "text/plain": [
       "<Figure size 432x288 with 1 Axes>"
      ]
     },
     "metadata": {
      "needs_background": "light"
     },
     "output_type": "display_data"
    }
   ],
   "source": [
    "sns.heatmap(train_h_data.isnull(), cbar=False)"
   ]
  },
  {
   "cell_type": "code",
   "execution_count": 50,
   "metadata": {},
   "outputs": [
    {
     "ename": "KeyError",
     "evalue": "'time'",
     "output_type": "error",
     "traceback": [
      "\u001b[1;31m---------------------------------------------------------------------------\u001b[0m",
      "\u001b[1;31mKeyError\u001b[0m                                  Traceback (most recent call last)",
      "\u001b[1;32m~\\AppData\\Local\\Temp/ipykernel_21092/383256899.py\u001b[0m in \u001b[0;36m<module>\u001b[1;34m\u001b[0m\n\u001b[0;32m     13\u001b[0m \u001b[0mtrain_h_min_data\u001b[0m \u001b[1;33m=\u001b[0m \u001b[0mtrain_h_grouped_data\u001b[0m\u001b[1;33m.\u001b[0m\u001b[0mgroupby\u001b[0m\u001b[1;33m(\u001b[0m\u001b[1;33m[\u001b[0m\u001b[1;34m'time'\u001b[0m\u001b[1;33m,\u001b[0m \u001b[1;34m'city'\u001b[0m\u001b[1;33m]\u001b[0m\u001b[1;33m)\u001b[0m\u001b[1;33m.\u001b[0m\u001b[0mmin\u001b[0m\u001b[1;33m(\u001b[0m\u001b[1;33m)\u001b[0m\u001b[1;33m.\u001b[0m\u001b[0mreset_index\u001b[0m\u001b[1;33m(\u001b[0m\u001b[1;33m)\u001b[0m\u001b[1;33m.\u001b[0m\u001b[0mcopy\u001b[0m\u001b[1;33m(\u001b[0m\u001b[1;33m)\u001b[0m\u001b[1;33m\u001b[0m\u001b[1;33m\u001b[0m\u001b[0m\n\u001b[0;32m     14\u001b[0m \u001b[0mtrain_h_sum_data\u001b[0m \u001b[1;33m=\u001b[0m \u001b[0mtrain_h_grouped_data\u001b[0m\u001b[1;33m.\u001b[0m\u001b[0mgroupby\u001b[0m\u001b[1;33m(\u001b[0m\u001b[1;33m[\u001b[0m\u001b[1;34m'time'\u001b[0m\u001b[1;33m,\u001b[0m \u001b[1;34m'city'\u001b[0m\u001b[1;33m]\u001b[0m\u001b[1;33m)\u001b[0m\u001b[1;33m.\u001b[0m\u001b[0msum\u001b[0m\u001b[1;33m(\u001b[0m\u001b[1;33m)\u001b[0m\u001b[1;33m.\u001b[0m\u001b[0mreset_index\u001b[0m\u001b[1;33m(\u001b[0m\u001b[1;33m)\u001b[0m\u001b[1;33m.\u001b[0m\u001b[0mcopy\u001b[0m\u001b[1;33m(\u001b[0m\u001b[1;33m)\u001b[0m\u001b[1;33m\u001b[0m\u001b[1;33m\u001b[0m\u001b[0m\n\u001b[1;32m---> 15\u001b[1;33m \u001b[0mtrain_h_mode_data\u001b[0m \u001b[1;33m=\u001b[0m \u001b[0mtrain_h_grouped_data\u001b[0m\u001b[1;33m[\u001b[0m\u001b[1;34m\"winddirection_10m (°)\"\u001b[0m\u001b[1;33m]\u001b[0m\u001b[1;33m.\u001b[0m\u001b[0mgroupby\u001b[0m\u001b[1;33m(\u001b[0m\u001b[1;33m[\u001b[0m\u001b[1;34m'time'\u001b[0m\u001b[1;33m,\u001b[0m \u001b[1;34m'city'\u001b[0m\u001b[1;33m]\u001b[0m\u001b[1;33m)\u001b[0m\u001b[1;33m.\u001b[0m\u001b[0mmode\u001b[0m\u001b[1;33m(\u001b[0m\u001b[1;33m)\u001b[0m\u001b[1;33m.\u001b[0m\u001b[0mreset_index\u001b[0m\u001b[1;33m(\u001b[0m\u001b[1;33m)\u001b[0m\u001b[1;33m.\u001b[0m\u001b[0mcopy\u001b[0m\u001b[1;33m(\u001b[0m\u001b[1;33m)\u001b[0m\u001b[1;33m\u001b[0m\u001b[1;33m\u001b[0m\u001b[0m\n\u001b[0m",
      "\u001b[1;32mc:\\Users\\acer\\AppData\\Local\\Programs\\Python\\Python39\\lib\\site-packages\\pandas\\core\\series.py\u001b[0m in \u001b[0;36mgroupby\u001b[1;34m(self, by, axis, level, as_index, sort, group_keys, squeeze, observed, dropna)\u001b[0m\n\u001b[0;32m   1733\u001b[0m         \u001b[0maxis\u001b[0m \u001b[1;33m=\u001b[0m \u001b[0mself\u001b[0m\u001b[1;33m.\u001b[0m\u001b[0m_get_axis_number\u001b[0m\u001b[1;33m(\u001b[0m\u001b[0maxis\u001b[0m\u001b[1;33m)\u001b[0m\u001b[1;33m\u001b[0m\u001b[1;33m\u001b[0m\u001b[0m\n\u001b[0;32m   1734\u001b[0m \u001b[1;33m\u001b[0m\u001b[0m\n\u001b[1;32m-> 1735\u001b[1;33m         return SeriesGroupBy(\n\u001b[0m\u001b[0;32m   1736\u001b[0m             \u001b[0mobj\u001b[0m\u001b[1;33m=\u001b[0m\u001b[0mself\u001b[0m\u001b[1;33m,\u001b[0m\u001b[1;33m\u001b[0m\u001b[1;33m\u001b[0m\u001b[0m\n\u001b[0;32m   1737\u001b[0m             \u001b[0mkeys\u001b[0m\u001b[1;33m=\u001b[0m\u001b[0mby\u001b[0m\u001b[1;33m,\u001b[0m\u001b[1;33m\u001b[0m\u001b[1;33m\u001b[0m\u001b[0m\n",
      "\u001b[1;32mc:\\Users\\acer\\AppData\\Local\\Programs\\Python\\Python39\\lib\\site-packages\\pandas\\core\\groupby\\groupby.py\u001b[0m in \u001b[0;36m__init__\u001b[1;34m(self, obj, keys, axis, level, grouper, exclusions, selection, as_index, sort, group_keys, squeeze, observed, mutated, dropna)\u001b[0m\n\u001b[0;32m    523\u001b[0m             \u001b[1;32mfrom\u001b[0m \u001b[0mpandas\u001b[0m\u001b[1;33m.\u001b[0m\u001b[0mcore\u001b[0m\u001b[1;33m.\u001b[0m\u001b[0mgroupby\u001b[0m\u001b[1;33m.\u001b[0m\u001b[0mgrouper\u001b[0m \u001b[1;32mimport\u001b[0m \u001b[0mget_grouper\u001b[0m\u001b[1;33m\u001b[0m\u001b[1;33m\u001b[0m\u001b[0m\n\u001b[0;32m    524\u001b[0m \u001b[1;33m\u001b[0m\u001b[0m\n\u001b[1;32m--> 525\u001b[1;33m             grouper, exclusions, obj = get_grouper(\n\u001b[0m\u001b[0;32m    526\u001b[0m                 \u001b[0mobj\u001b[0m\u001b[1;33m,\u001b[0m\u001b[1;33m\u001b[0m\u001b[1;33m\u001b[0m\u001b[0m\n\u001b[0;32m    527\u001b[0m                 \u001b[0mkeys\u001b[0m\u001b[1;33m,\u001b[0m\u001b[1;33m\u001b[0m\u001b[1;33m\u001b[0m\u001b[0m\n",
      "\u001b[1;32mc:\\Users\\acer\\AppData\\Local\\Programs\\Python\\Python39\\lib\\site-packages\\pandas\\core\\groupby\\grouper.py\u001b[0m in \u001b[0;36mget_grouper\u001b[1;34m(obj, key, axis, level, sort, observed, mutated, validate, dropna)\u001b[0m\n\u001b[0;32m    784\u001b[0m                 \u001b[0min_axis\u001b[0m\u001b[1;33m,\u001b[0m \u001b[0mname\u001b[0m\u001b[1;33m,\u001b[0m \u001b[0mlevel\u001b[0m\u001b[1;33m,\u001b[0m \u001b[0mgpr\u001b[0m \u001b[1;33m=\u001b[0m \u001b[1;32mFalse\u001b[0m\u001b[1;33m,\u001b[0m \u001b[1;32mNone\u001b[0m\u001b[1;33m,\u001b[0m \u001b[0mgpr\u001b[0m\u001b[1;33m,\u001b[0m \u001b[1;32mNone\u001b[0m\u001b[1;33m\u001b[0m\u001b[1;33m\u001b[0m\u001b[0m\n\u001b[0;32m    785\u001b[0m             \u001b[1;32melse\u001b[0m\u001b[1;33m:\u001b[0m\u001b[1;33m\u001b[0m\u001b[1;33m\u001b[0m\u001b[0m\n\u001b[1;32m--> 786\u001b[1;33m                 \u001b[1;32mraise\u001b[0m \u001b[0mKeyError\u001b[0m\u001b[1;33m(\u001b[0m\u001b[0mgpr\u001b[0m\u001b[1;33m)\u001b[0m\u001b[1;33m\u001b[0m\u001b[1;33m\u001b[0m\u001b[0m\n\u001b[0m\u001b[0;32m    787\u001b[0m         \u001b[1;32melif\u001b[0m \u001b[0misinstance\u001b[0m\u001b[1;33m(\u001b[0m\u001b[0mgpr\u001b[0m\u001b[1;33m,\u001b[0m \u001b[0mGrouper\u001b[0m\u001b[1;33m)\u001b[0m \u001b[1;32mand\u001b[0m \u001b[0mgpr\u001b[0m\u001b[1;33m.\u001b[0m\u001b[0mkey\u001b[0m \u001b[1;32mis\u001b[0m \u001b[1;32mnot\u001b[0m \u001b[1;32mNone\u001b[0m\u001b[1;33m:\u001b[0m\u001b[1;33m\u001b[0m\u001b[1;33m\u001b[0m\u001b[0m\n\u001b[0;32m    788\u001b[0m             \u001b[1;31m# Add key to exclusions\u001b[0m\u001b[1;33m\u001b[0m\u001b[1;33m\u001b[0m\u001b[1;33m\u001b[0m\u001b[0m\n",
      "\u001b[1;31mKeyError\u001b[0m: 'time'"
     ]
    }
   ],
   "source": [
    "train_data = pd.read_csv('train.csv')\n",
    "train_h_data = pd.read_csv('train_hourly.csv')\n",
    "test_data = pd.read_csv('test.csv')\n",
    "test_h_data = pd.read_csv('test_hourly.csv')\n",
    "\n",
    "train_h_grouped_data = train_h_data.copy()\n",
    "\n",
    "train_h_grouped_data[\"time_d\"] = pd.to_datetime(train_h_grouped_data[\"time\"]).dt.date\n",
    "train_h_grouped_data[\"time_d\"] = train_h_grouped_data[\"time_d\"].apply(str) \n",
    "\n",
    "train_h_avg_data = train_h_grouped_data.groupby(['time', 'city']).mean().reset_index().copy()\n",
    "train_h_max_data = train_h_grouped_data.groupby(['time', 'city']).max().reset_index().copy()\n",
    "train_h_min_data = train_h_grouped_data.groupby(['time', 'city']).min().reset_index().copy()\n",
    "train_h_sum_data = train_h_grouped_data.groupby(['time', 'city']).sum().reset_index().copy()"
   ]
  },
  {
   "cell_type": "code",
   "execution_count": 57,
   "metadata": {},
   "outputs": [],
   "source": [
    "fill = [\n",
    "    ['temperature_2m (°C)', 'temperature_2m_max (°C)', 'max'],\n",
    "    ['temperature_2m (°C)', 'temperature_2m_min (°C)', 'min'],\n",
    "    ['relativehumidity_2m (%)', 'relativehumidity_2m_max (%)', 'max'],\n",
    "    ['relativehumidity_2m (%)', 'relativehumidity_2m_min (%)', 'min'],\n",
    "    ['apparent_temperature (°C)', 'apparent_temperature_max (°C)', 'max'],\n",
    "    ['apparent_temperature (°C)', 'apparent_temperature_min (°C)', 'min'],\n",
    "    ['windspeed_10m (km/h)', 'windspeed_10m_max (km/h)', 'max'],\n",
    "    ['windspeed_10m (km/h)', 'windspeed_10m_min (km/h)', 'max'],\n",
    "    ['windgusts_10m (km/h)', 'windgusts_10m_max (km/h)', 'max'],\n",
    "    ['windgusts_10m (km/h)', 'windgusts_10m_min (km/h)', 'min']\n",
    "]\n",
    "\n",
    "for i in fill: \n",
    "    if i[2] == 'max': \n",
    "        train_data[i[1]] = train_h_max_data[i[0]]\n",
    "    else:\n",
    "        train_data[i[1]] = train_h_min_data[i[0]]\n",
    "\n",
    "train_data['temperature_2m_avg (°C)'] = train_h_avg_data['temperature_2m (°C)']\n",
    "train_data['relativehumidity_2m_avg (%)'] = train_h_avg_data['relativehumidity_2m (%)']\n",
    "train_data['windspeed_10m_avg (km/h)'] = train_h_avg_data['windspeed_10m (km/h)']\n",
    "train_data['windgusts_10m_avg (km/h)'] = train_h_avg_data['windgusts_10m (km/h)']\n",
    "train_data['snowfall_sum (cm)'] = train_h_sum_data['snowfall (cm)']\n",
    "# train_data['shortwave_radiation_sum (MJ/m²)'] = train_h_sum_data['shortwave_radiation (W/m²)'] * 0.0036\n",
    "# train_data['winddirection_10m_dominant (°)'] = train_h_mode_data['winddirection_10m (°)']\n"
   ]
  },
  {
   "cell_type": "code",
   "execution_count": 66,
   "metadata": {},
   "outputs": [],
   "source": [
    "train_data = train_data.dropna(subset=['rain_sum (mm)'])"
   ]
  },
  {
   "cell_type": "code",
   "execution_count": 67,
   "metadata": {},
   "outputs": [
    {
     "data": {
      "text/plain": [
       "time                                 0\n",
       "temperature_2m_max (°C)              0\n",
       "temperature_2m_min (°C)              0\n",
       "apparent_temperature_max (°C)        0\n",
       "apparent_temperature_min (°C)        0\n",
       "sunrise (iso8601)                    0\n",
       "sunset (iso8601)                     0\n",
       "shortwave_radiation_sum (MJ/m²)      0\n",
       "rain_sum (mm)                        0\n",
       "snowfall_sum (cm)                    0\n",
       "windspeed_10m_max (km/h)             0\n",
       "windgusts_10m_max (km/h)             0\n",
       "winddirection_10m_dominant (°)     406\n",
       "et0_fao_evapotranspiration (mm)      0\n",
       "elevation                            0\n",
       "city                                 0\n",
       "relativehumidity_2m_max (%)          0\n",
       "relativehumidity_2m_min (%)          0\n",
       "windspeed_10m_min (km/h)             0\n",
       "windgusts_10m_min (km/h)             0\n",
       "temperature_2m_avg (°C)              0\n",
       "relativehumidity_2m_avg (%)          0\n",
       "windspeed_10m_avg (km/h)             0\n",
       "windgusts_10m_avg (km/h)             0\n",
       "dtype: int64"
      ]
     },
     "execution_count": 67,
     "metadata": {},
     "output_type": "execute_result"
    }
   ],
   "source": [
    "train_data.isnull().sum()"
   ]
  },
  {
   "cell_type": "markdown",
   "metadata": {},
   "source": [
    "# Model"
   ]
  },
  {
   "cell_type": "code",
   "execution_count": null,
   "metadata": {},
   "outputs": [],
   "source": []
  },
  {
   "cell_type": "code",
   "execution_count": null,
   "metadata": {},
   "outputs": [],
   "source": []
  }
 ],
 "metadata": {
  "kernelspec": {
   "display_name": "Python 3.9.0 64-bit",
   "language": "python",
   "name": "python3"
  },
  "language_info": {
   "codemirror_mode": {
    "name": "ipython",
    "version": 3
   },
   "file_extension": ".py",
   "mimetype": "text/x-python",
   "name": "python",
   "nbconvert_exporter": "python",
   "pygments_lexer": "ipython3",
   "version": "3.9.0"
  },
  "orig_nbformat": 4,
  "vscode": {
   "interpreter": {
    "hash": "8f5816e6188795d1cc8afa4306b69c5e3a103f064a75e820fe776234e4cf83e8"
   }
  }
 },
 "nbformat": 4,
 "nbformat_minor": 2
}
